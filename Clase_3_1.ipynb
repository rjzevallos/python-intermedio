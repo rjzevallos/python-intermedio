{
  "nbformat": 4,
  "nbformat_minor": 0,
  "metadata": {
    "kernelspec": {
      "display_name": "Python 3",
      "language": "python",
      "name": "python3"
    },
    "language_info": {
      "codemirror_mode": {
        "name": "ipython",
        "version": 3
      },
      "file_extension": ".py",
      "mimetype": "text/x-python",
      "name": "python",
      "nbconvert_exporter": "python",
      "pygments_lexer": "ipython3",
      "version": "3.6.8"
    },
    "colab": {
      "name": "Clase_3_1.ipynb",
      "provenance": [],
      "collapsed_sections": [],
      "toc_visible": true,
      "include_colab_link": true
    }
  },
  "cells": [
    {
      "cell_type": "markdown",
      "metadata": {
        "id": "view-in-github",
        "colab_type": "text"
      },
      "source": [
        "<a href=\"https://colab.research.google.com/github/rjzevallos/python-intermedio/blob/main/Clase_3_1.ipynb\" target=\"_parent\"><img src=\"https://colab.research.google.com/assets/colab-badge.svg\" alt=\"Open In Colab\"/></a>"
      ]
    },
    {
      "cell_type": "markdown",
      "metadata": {
        "id": "2BF7XMscERVE"
      },
      "source": [
        "\n",
        "# Programación Funcional en Python\n",
        "\n",
        "Python nos permite trabajar con dos clases de _paradigmas_ de computación: programación orientada a objetos (OOP) y programación funcional. En esta sesión veremos la manera de trabajar de trabajar con el paradigma de la programación funcional.\n",
        "\n",
        "En la ciencia de la computación, la **programación funcional** (o *functional programming*), es un paradigma de computación que considera que los elementos sean tratados como funciones matemáticas \n",
        "\n",
        "$$\n",
        "    f: \\Omega_1 \\rightarrow \\Omega_2\n",
        "$$\n",
        "\n",
        "\n",
        "Bajo este paradigma cada elemento definido es único e inmutable."
      ]
    },
    {
      "cell_type": "markdown",
      "metadata": {
        "id": "6D1piMb6ERVL"
      },
      "source": [
        "### Un primer ejemplo: OOP v.s. FP\n",
        "* Bajo el paradigma OOP operamos objetos mutables\n",
        "* Bajo el paradigma FP operamos respecto a funciones y asignamos inputs."
      ]
    },
    {
      "cell_type": "code",
      "metadata": {
        "id": "15dn4jOGERVM"
      },
      "source": [
        "# Una lista como un objeto (paradigma oop)\n",
        "list_1 = [1, 2, 3]\n",
        "# el método _append_ modifica la lista original y no regresa ningún resultado\n",
        "list_1.append(4)"
      ],
      "execution_count": null,
      "outputs": []
    },
    {
      "cell_type": "code",
      "metadata": {
        "colab": {
          "base_uri": "https://localhost:8080/"
        },
        "id": "quYo9FL3ERVO",
        "outputId": "f96f94b3-557e-4b23-fbb2-a75f92893a90"
      },
      "source": [
        "# Una lista como un input (paradigma fp)\n",
        "def add_element(elements, new_element):\n",
        "    return elements + [new_element]\n",
        "list_2 = [1, 2, 3]\n",
        "# 'add_element' produce un output y no modifica \n",
        "add_element(list_2, 4)"
      ],
      "execution_count": null,
      "outputs": [
        {
          "output_type": "execute_result",
          "data": {
            "text/plain": [
              "[1, 2, 3, 4]"
            ]
          },
          "metadata": {},
          "execution_count": 11
        }
      ]
    },
    {
      "cell_type": "markdown",
      "metadata": {
        "id": "2PSh0Dr5ERVQ"
      },
      "source": [
        "## funciones `lambda`\n",
        "Una función `lambda` es una función anónima la cuál nos permite definir y tratar funciones como si fuesen elementos. Esto nos permite definir funciones *on the fly* y tratarlas como inputs a otras funciones.\n",
        "\n",
        "Podemos pensar una función lambda como una función compuesta\n",
        "$$\n",
        "    \\lambda(f(p_1, p_2, \\ldots, p_n))\n",
        "$$\n",
        "\n",
        "Una función sigue la siguiente sintaxis:\n",
        "```python\n",
        "lambda p1, p2, ..., pn: f(p1, p2, ..., pn)\n",
        "```"
      ]
    },
    {
      "cell_type": "code",
      "metadata": {
        "colab": {
          "base_uri": "https://localhost:8080/"
        },
        "id": "cLsbSagtERVQ",
        "outputId": "6c3819c1-5137-4849-c327-6e501c5f6af2"
      },
      "source": [
        "# Las funciones lambda son \"anónimas\" en el sentido de no tener un nombre asignado\n",
        "times1 = lambda x, y: x * y\n",
        "times1"
      ],
      "execution_count": null,
      "outputs": [
        {
          "output_type": "execute_result",
          "data": {
            "text/plain": [
              "<function __main__.<lambda>>"
            ]
          },
          "metadata": {},
          "execution_count": 12
        }
      ]
    },
    {
      "cell_type": "code",
      "metadata": {
        "colab": {
          "base_uri": "https://localhost:8080/"
        },
        "id": "scbab5oKERVR",
        "outputId": "fbd6cee3-6d83-47fc-bd63-62108bc8e925"
      },
      "source": [
        "def times2(x, y): return x * y\n",
        "times2"
      ],
      "execution_count": null,
      "outputs": [
        {
          "output_type": "execute_result",
          "data": {
            "text/plain": [
              "<function __main__.times2>"
            ]
          },
          "metadata": {},
          "execution_count": 13
        }
      ]
    },
    {
      "cell_type": "markdown",
      "metadata": {
        "id": "223KcB8LERVS"
      },
      "source": [
        "Las funciones `lambda` pueden ser tratadas como cualquier otro elemento. No es necesario declarales una variable para poder ocuparlas"
      ]
    },
    {
      "cell_type": "code",
      "metadata": {
        "colab": {
          "base_uri": "https://localhost:8080/"
        },
        "id": "c1m-tCU3ERVT",
        "outputId": "5f06f1ff-f3b6-4827-83e0-259a2bee73b8"
      },
      "source": [
        "(lambda x, y: 2 * x + y)(5, 1)"
      ],
      "execution_count": null,
      "outputs": [
        {
          "output_type": "execute_result",
          "data": {
            "text/plain": [
              "11"
            ]
          },
          "metadata": {},
          "execution_count": 14
        }
      ]
    },
    {
      "cell_type": "code",
      "metadata": {
        "colab": {
          "base_uri": "https://localhost:8080/"
        },
        "id": "92Jy_B4pERVU",
        "outputId": "f886c9ea-d39b-4490-e4c1-c487d53add62"
      },
      "source": [
        "# Las funciones lambda nos permiten pasar funciones por parámetros sin haberlos definido previamente\n",
        "# fºg(x) == f(g(x))\n",
        "def f(g, x):\n",
        "    return 2 * g(x)\n",
        "\n",
        "f(lambda x: x ** 2, 3)"
      ],
      "execution_count": null,
      "outputs": [
        {
          "output_type": "execute_result",
          "data": {
            "text/plain": [
              "18"
            ]
          },
          "metadata": {},
          "execution_count": 15
        }
      ]
    },
    {
      "cell_type": "markdown",
      "metadata": {
        "id": "RwsgyBEEERVV"
      },
      "source": [
        "## `map` &  `filter`"
      ]
    },
    {
      "cell_type": "markdown",
      "metadata": {
        "id": "VkTIokV-ERVV"
      },
      "source": [
        "### `map`\n",
        "La función `map` aplica una función `f` a un iterable `X` de $n$ elementos entrada a entrada.\n",
        "```python\n",
        "map(f, X) = [f(x1), f(x2), ..., f(xn)]\n",
        "```\n",
        "\n",
        "map siempre regresa un iterable, por lo que es necesario, para ver su valor, pasarlo a una lista"
      ]
    },
    {
      "cell_type": "markdown",
      "metadata": {
        "id": "iyn2sZrnERVW"
      },
      "source": [
        "<h2 style=\"color:teal\">Ejemplo</h2>\n",
        "Crea una lista de 10 elementos con los valores del 1 al 10 al cuadrado"
      ]
    },
    {
      "cell_type": "code",
      "metadata": {
        "colab": {
          "base_uri": "https://localhost:8080/"
        },
        "id": "6IKWuzGXERVW",
        "outputId": "09413f99-d3f6-422c-9d67-332458f5d23b"
      },
      "source": [
        "# versión oop\n",
        "elementos = []\n",
        "for x in range(1, 11):\n",
        "    elementos.append(x ** 2)\n",
        "elementos"
      ],
      "execution_count": null,
      "outputs": [
        {
          "output_type": "execute_result",
          "data": {
            "text/plain": [
              "[1, 4, 9, 16, 25, 36, 49, 64, 81, 100]"
            ]
          },
          "metadata": {},
          "execution_count": 16
        }
      ]
    },
    {
      "cell_type": "code",
      "metadata": {
        "colab": {
          "base_uri": "https://localhost:8080/"
        },
        "id": "Q4ERrSOpERVX",
        "outputId": "f857fe23-0798-4a3d-ddc6-8de56baf6682"
      },
      "source": [
        "# versión fp\n",
        "elementos = map(lambda x: x ** 2, range(1, 11))\n",
        "list(elementos)"
      ],
      "execution_count": null,
      "outputs": [
        {
          "output_type": "execute_result",
          "data": {
            "text/plain": [
              "[1, 4, 9, 16, 25, 36, 49, 64, 81, 100]"
            ]
          },
          "metadata": {},
          "execution_count": 17
        }
      ]
    },
    {
      "cell_type": "code",
      "metadata": {
        "colab": {
          "base_uri": "https://localhost:8080/"
        },
        "id": "9-8P5ZwiERVX",
        "outputId": "2a83f5a6-b32b-4522-9ce9-9d4bfbe00ff4"
      },
      "source": [
        "map(lambda x, y: y + x ** 2, range(1, 11), range(10, 21))"
      ],
      "execution_count": null,
      "outputs": [
        {
          "output_type": "execute_result",
          "data": {
            "text/plain": [
              "<map at 0x7f25f5f5de10>"
            ]
          },
          "metadata": {},
          "execution_count": 18
        }
      ]
    },
    {
      "cell_type": "markdown",
      "metadata": {
        "id": "ykZWYvVFERVY"
      },
      "source": [
        "Con `map` podemos iterar cualquier elementos que querramos"
      ]
    },
    {
      "cell_type": "code",
      "metadata": {
        "colab": {
          "base_uri": "https://localhost:8080/"
        },
        "id": "bIvOcj06ERVY",
        "outputId": "fcf8b6df-2354-4ac4-d8fa-9bbca7a7fedb"
      },
      "source": [
        "funcs = [lambda x: x + x, lambda x: x - x, lambda x: x * x, lambda x: x / x]\n",
        "list(map(lambda f: f(2), funcs))"
      ],
      "execution_count": null,
      "outputs": [
        {
          "output_type": "execute_result",
          "data": {
            "text/plain": [
              "[4, 0, 4, 1.0]"
            ]
          },
          "metadata": {},
          "execution_count": 19
        }
      ]
    },
    {
      "cell_type": "markdown",
      "metadata": {
        "id": "3vccyOcJERVZ"
      },
      "source": [
        "<h2 style=\"color:teal\">Ejemplo</h2>\n",
        "\n",
        "Usando map, crea una lista de 4 listas: la `i`-ésima lista deberá contener los valores de la operación `funcs[i]` aplicado a todos los valores `1` a `10`"
      ]
    },
    {
      "cell_type": "code",
      "metadata": {
        "colab": {
          "base_uri": "https://localhost:8080/"
        },
        "id": "74uc2-f6ERVZ",
        "outputId": "a442f5b9-fd26-4a36-9af5-04764f7520ee"
      },
      "source": [
        "list(map(lambda f: list(map(lambda x: f(x), range(1, 11))), funcs))"
      ],
      "execution_count": null,
      "outputs": [
        {
          "output_type": "execute_result",
          "data": {
            "text/plain": [
              "[[2, 4, 6, 8, 10, 12, 14, 16, 18, 20],\n",
              " [0, 0, 0, 0, 0, 0, 0, 0, 0, 0],\n",
              " [1, 4, 9, 16, 25, 36, 49, 64, 81, 100],\n",
              " [1.0, 1.0, 1.0, 1.0, 1.0, 1.0, 1.0, 1.0, 1.0, 1.0]]"
            ]
          },
          "metadata": {},
          "execution_count": 20
        }
      ]
    },
    {
      "cell_type": "markdown",
      "metadata": {
        "id": "7qwZssUIERVa"
      },
      "source": [
        "### `filter`\n",
        "La función `filter` un filtro `X` considerando `f`. `filter` regresa un iterable de los elementos de `X` que son verdaderos bajo `f`"
      ]
    },
    {
      "cell_type": "code",
      "metadata": {
        "colab": {
          "base_uri": "https://localhost:8080/"
        },
        "id": "e-GD9OCkERVa",
        "outputId": "94d5bcc9-d16d-4d06-ce24-d298246a8bb2"
      },
      "source": [
        "elementos = [1, 5, 2, 0, 4, 3, 8, 11]\n",
        "nuevos_elementos = []\n",
        "for x in elementos:\n",
        "    if x % 2 != 0:\n",
        "        nuevos_elementos.append(x)\n",
        "nuevos_elementos"
      ],
      "execution_count": null,
      "outputs": [
        {
          "output_type": "execute_result",
          "data": {
            "text/plain": [
              "[1, 5, 3, 11]"
            ]
          },
          "metadata": {},
          "execution_count": 21
        }
      ]
    },
    {
      "cell_type": "code",
      "metadata": {
        "colab": {
          "base_uri": "https://localhost:8080/"
        },
        "id": "s6rgiU8QERVa",
        "outputId": "dce168cc-2c30-4ea0-f943-158933b80696"
      },
      "source": [
        "list(filter(lambda x: x % 2 != 0, elementos))"
      ],
      "execution_count": null,
      "outputs": [
        {
          "output_type": "execute_result",
          "data": {
            "text/plain": [
              "[1, 5, 3, 11]"
            ]
          },
          "metadata": {},
          "execution_count": 22
        }
      ]
    },
    {
      "cell_type": "markdown",
      "metadata": {
        "id": "vvXUpCvdERVb"
      },
      "source": [
        "## List Comprehensions\n",
        "### Una alternativa a `map` & `filter`\n",
        "Una alternativa a usar `map` o `filter` *list comprehensions*. La idea detrás de un *list comprehension* es describir un nuevo elemento como si fuera un conjunto:\n",
        "\n",
        "$$\n",
        "    A = \\{f(c) \\ | \\ c \\in C\\}\n",
        "$$\n",
        "\n",
        "\n",
        "<div align=\"center\">\n",
        "    \n",
        "```python\n",
        "A = [f(c) for c in C]\n",
        "\n",
        "```\n",
        "\n",
        "</div>\n",
        "\n",
        "Usar un *list comprehension*:\n",
        "1. Nos ahorra la necesidad de pasar de un generador a una lista\n",
        "2. Hace de ciertos códigos más legibles en menos líneas"
      ]
    },
    {
      "cell_type": "markdown",
      "metadata": {
        "id": "8qmSWLNKERVb"
      },
      "source": [
        "### List Comprehension como `map`"
      ]
    },
    {
      "cell_type": "code",
      "metadata": {
        "colab": {
          "base_uri": "https://localhost:8080/"
        },
        "id": "98hSm2J_ERVb",
        "outputId": "40a5ecca-8816-4731-a068-037b4f2d95e8"
      },
      "source": [
        "# lista de todos los elementos de 1 al 11 al cuadrado\n",
        "# list(map(lambda x: x ** 2, range(1, 11))) \n",
        "[x ** 2 for x in range(1, 11)]"
      ],
      "execution_count": null,
      "outputs": [
        {
          "output_type": "execute_result",
          "data": {
            "text/plain": [
              "[1, 4, 9, 16, 25, 36, 49, 64, 81, 100]"
            ]
          },
          "metadata": {},
          "execution_count": 23
        }
      ]
    },
    {
      "cell_type": "markdown",
      "metadata": {
        "id": "DmChMSQUERVb"
      },
      "source": [
        "### List Comprehension como `filter`"
      ]
    },
    {
      "cell_type": "code",
      "metadata": {
        "colab": {
          "base_uri": "https://localhost:8080/"
        },
        "id": "nDOTr03aERVc",
        "outputId": "87b4a4e5-e672-466e-bff2-0c5bf3cd54bc"
      },
      "source": [
        "# lista de todos los elementos de 1 al 11 que sean impares\n",
        "# list(filter(lambda x: x % 2 == 1, range(1, 11))) \n",
        "[x for x in range(1, 11) if x % 2 == 1]"
      ],
      "execution_count": null,
      "outputs": [
        {
          "output_type": "execute_result",
          "data": {
            "text/plain": [
              "[1, 3, 5, 7, 9]"
            ]
          },
          "metadata": {},
          "execution_count": 24
        }
      ]
    },
    {
      "cell_type": "markdown",
      "metadata": {
        "id": "3gaRtabMERVc"
      },
      "source": [
        "<h2 style=\"color:teal\">Ejemplo</h2>\n",
        "\n",
        "Usando list comprehensions, escribe una expresión que obtenga todos los del 1 al 11 al cuadrado que sean impares"
      ]
    },
    {
      "cell_type": "code",
      "metadata": {
        "colab": {
          "base_uri": "https://localhost:8080/"
        },
        "id": "JoIRs5XYERVc",
        "outputId": "ce7c1021-de2c-47bc-deb2-00557edc96ad"
      },
      "source": [
        "[x ** 2 for x in range(1, 11) if x % 2 == 1]"
      ],
      "execution_count": null,
      "outputs": [
        {
          "output_type": "execute_result",
          "data": {
            "text/plain": [
              "[1, 9, 25, 49, 81]"
            ]
          },
          "metadata": {},
          "execution_count": 25
        }
      ]
    },
    {
      "cell_type": "markdown",
      "metadata": {
        "id": "xFbjFQqhERVc"
      },
      "source": [
        "## Set, Dict comprehension\n",
        "Al igual que con una lista, podemos crear un arreglo de `dict`s y `set`s de manera funcional\n",
        "\n",
        "**dict comprehension**\n",
        "```python\n",
        "{k: f(k) for k in C}\n",
        "```\n",
        "\n",
        "**set comprehension**\n",
        "```python\n",
        "{f(k) for k in C}\n",
        "```"
      ]
    },
    {
      "cell_type": "markdown",
      "metadata": {
        "id": "FE-cF3mEERVc"
      },
      "source": [
        "<h2 style=\"color:teal\">Ejemplo</h2>\n",
        "\n",
        "Considerando las listas `companies`, `ticks`\n",
        "1. crea un *dict comphrension* cuya llave sea el nombre de la compañía y su valor la longitud de su nombre\n",
        "2. Crea un *set comprehension* que contenga la longitudes de los elementos en `ticks`\n",
        "3. Crea un dict comprehension cuya llave sea al tick de la compañía y su valor el nombre de la compañía"
      ]
    },
    {
      "cell_type": "code",
      "metadata": {
        "id": "mOY_tOHZERVd"
      },
      "source": [
        "companies = ['Nokia', 'Caterpillar', 'Citigroup', 'Union Pacific',\n",
        "             'Jp Morgan Chase', 'Morgan Stanley', 'Praxair',\n",
        "             'Lloyds Tsb', 'Wells Fargo', 'Ford Motor', 'Pfizer',\n",
        "             'Companhia Vale Do Rio Doce', 'Gen Electric', 'Barrick Gold',\n",
        "             'Bhp Billiton Sp', 'Philips Electronics']\n",
        "ticks = ['NOK', 'CAT', 'C', 'UNP', 'JPM', 'MS', 'PX', 'LYG', 'WFC', 'F', 'PFE', 'VALE', 'GE', 'ABX', 'BBL', 'PHG']"
      ],
      "execution_count": null,
      "outputs": []
    },
    {
      "cell_type": "code",
      "metadata": {
        "colab": {
          "base_uri": "https://localhost:8080/"
        },
        "id": "2GgPnBYVERVd",
        "outputId": "f51cf538-2c13-4d02-c5f5-cb7f1dbe7589"
      },
      "source": [
        "# 1\n",
        "{c: len(c) for c in companies}"
      ],
      "execution_count": null,
      "outputs": [
        {
          "output_type": "execute_result",
          "data": {
            "text/plain": [
              "{'Barrick Gold': 12,\n",
              " 'Bhp Billiton Sp': 15,\n",
              " 'Caterpillar': 11,\n",
              " 'Citigroup': 9,\n",
              " 'Companhia Vale Do Rio Doce': 26,\n",
              " 'Ford Motor': 10,\n",
              " 'Gen Electric': 12,\n",
              " 'Jp Morgan Chase': 15,\n",
              " 'Lloyds Tsb': 10,\n",
              " 'Morgan Stanley': 14,\n",
              " 'Nokia': 5,\n",
              " 'Pfizer': 6,\n",
              " 'Philips Electronics': 19,\n",
              " 'Praxair': 7,\n",
              " 'Union Pacific': 13,\n",
              " 'Wells Fargo': 11}"
            ]
          },
          "metadata": {},
          "execution_count": 27
        }
      ]
    },
    {
      "cell_type": "code",
      "metadata": {
        "colab": {
          "base_uri": "https://localhost:8080/"
        },
        "id": "mf7MiQVyERVd",
        "outputId": "5b7a13cc-6506-459f-e8eb-ae9987d5735b"
      },
      "source": [
        "# 2\n",
        "{len(t) for t in ticks}"
      ],
      "execution_count": null,
      "outputs": [
        {
          "output_type": "execute_result",
          "data": {
            "text/plain": [
              "{1, 2, 3, 4}"
            ]
          },
          "metadata": {},
          "execution_count": 28
        }
      ]
    },
    {
      "cell_type": "code",
      "metadata": {
        "colab": {
          "base_uri": "https://localhost:8080/"
        },
        "id": "rqqQN0yrERVd",
        "outputId": "1e55c5ac-fe30-451a-96ff-2a411db33386"
      },
      "source": [
        "# 3\n",
        "{t: c for t, c in zip(ticks, companies)}"
      ],
      "execution_count": null,
      "outputs": [
        {
          "output_type": "execute_result",
          "data": {
            "text/plain": [
              "{'ABX': 'Barrick Gold',\n",
              " 'BBL': 'Bhp Billiton Sp',\n",
              " 'C': 'Citigroup',\n",
              " 'CAT': 'Caterpillar',\n",
              " 'F': 'Ford Motor',\n",
              " 'GE': 'Gen Electric',\n",
              " 'JPM': 'Jp Morgan Chase',\n",
              " 'LYG': 'Lloyds Tsb',\n",
              " 'MS': 'Morgan Stanley',\n",
              " 'NOK': 'Nokia',\n",
              " 'PFE': 'Pfizer',\n",
              " 'PHG': 'Philips Electronics',\n",
              " 'PX': 'Praxair',\n",
              " 'UNP': 'Union Pacific',\n",
              " 'VALE': 'Companhia Vale Do Rio Doce',\n",
              " 'WFC': 'Wells Fargo'}"
            ]
          },
          "metadata": {},
          "execution_count": 29
        }
      ]
    },
    {
      "cell_type": "markdown",
      "metadata": {
        "id": "QUiyBijvERVe"
      },
      "source": [
        "----\n",
        "## Cuantificadores `all` `any`\n",
        "### El cálculo de predicados\n",
        "\n",
        "Al trabajar con arreglos de elementos, en ocasiones es deseable saber si **alguno** o **todos** los elementos cumplen con cierta característica.\n",
        "\n",
        "#### Any\n",
        "Para saber si al menos un elemento de un iterable es `True` ocupamos la función  `any`\n",
        "\n",
        "```python\n",
        "any(X) == x[0] or x[1] or ... or x[n-1]\n",
        "```\n",
        "\n",
        "`X` no es necesariamente un arreglo de booleanos. Considerando alguna función (predicado)  `f`, podemos evaluar si algún elemento cumple el predicado `f` de la siguiente manera\n",
        "\n",
        "<div align=\"center\">\n",
        "    \n",
        "```python\n",
        "any([f(x) for x in X]) == (f(x[0]) or f(x[1]) or ... or f(x[n]))\n",
        "```\n",
        "</div>\n",
        "\n",
        "Lo cual es equivalente al cálculo de predicados como:\n",
        "$$\n",
        "    \\exists x \\in X. f(x) = f(x_0) \\vee f(x_1) \\vee \\ldots \\vee f(x_n)\n",
        "$$\n",
        "\n",
        "#### All\n",
        "Para saber si todos los elementos de un iterable es `True` ocupamos la función  `all`\n",
        "\n",
        "```python\n",
        "all(X) == x[0] all x[1] all ... or x[n-1]\n",
        "```\n",
        "\n",
        "Al igual que `any`, `X` no es necesariamente un arreglo de booleanos. Considerando alguna función (predicado)  `f`, podemos evaluar si todos los elementos cumplen el predicado `f` de la siguiente manera\n",
        "\n",
        "<div align=\"center\">\n",
        "    \n",
        "```python\n",
        "all([f(x) for x in X]) == (f(x[0]) and f(x[1]) and ... and f(x[n]))\n",
        "```\n",
        "</div>\n",
        "\n",
        "Lo cual es equivalente al cálculo de predicados como:\n",
        "$$\n",
        "    \\forall x \\in X. f(x) = f(x_0) \\wedge f(x_1) \\wedge \\ldots \\wedge f(x_n)\n",
        "$$\n"
      ]
    },
    {
      "cell_type": "code",
      "metadata": {
        "colab": {
          "base_uri": "https://localhost:8080/"
        },
        "id": "lZzz74_eERVe",
        "outputId": "2fc53ce4-3a1a-4a12-a36c-cd575acb31cc"
      },
      "source": [
        "any([False, True, True])"
      ],
      "execution_count": null,
      "outputs": [
        {
          "output_type": "execute_result",
          "data": {
            "text/plain": [
              "True"
            ]
          },
          "metadata": {},
          "execution_count": 30
        }
      ]
    },
    {
      "cell_type": "code",
      "metadata": {
        "colab": {
          "base_uri": "https://localhost:8080/"
        },
        "id": "zUgTbkwpERVe",
        "outputId": "ab2ded83-04d3-4d1d-eac3-105896e54af4"
      },
      "source": [
        "all([False, True, True])"
      ],
      "execution_count": null,
      "outputs": [
        {
          "output_type": "execute_result",
          "data": {
            "text/plain": [
              "False"
            ]
          },
          "metadata": {},
          "execution_count": 31
        }
      ]
    },
    {
      "cell_type": "markdown",
      "metadata": {
        "id": "mlN__8X_ERVf"
      },
      "source": [
        "<h2 style=\"color:teal\">Ejemplo</h2>\n",
        "\n",
        "Considerando `U = [1, 3, 3, 10]`, escribe una fbf en python (y evalúa) los siguientes enunciados:\n",
        "1. Todos los elementos de `U` son impares\n",
        "2. Todos los elementos de `U` menores a 10 son impares\n",
        "3. Existe un número mayor a 10 impar\n",
        "\n",
        "Considerando `A = [0, 2, 4, 6]` y `B = [0, 1, 2, 3]`, escribe un fbf y evalua:\n",
        "1. Cada elemento en `A` es el doble de algún elemento en `B`\n",
        "\n",
        "\n",
        "Considerando `U =[36, 33, 43, 75, 21, 92, 16, 34, 31, 35, 80, 45, 47, 10, 52, 45, 21, 58, 30, 42]` evalúa las siguientes fbfs\n",
        "1. $ \\forall x \\in U. \\text{par}(x) \\rightarrow \\neg \\text{impar}(x)$\n",
        "2. $\\exists x \\in U. \\text{par}(x) \\wedge \\text{impar}(x)$\n",
        "\n",
        "\n",
        "Considerando `U = (1999, 2000, ..., 3000) × (\"Jan\", \"Feb\", ..., \"Dec\")` y `X <= U`, `X = [(2010, \"Jan\"), (2010, \"Feb\"), (2011, \"Feb\"), (2015, \"Dec\"), (2018, \"Feb\"), (2018, \"Aug\")]`, escribe una expresión para el siguiente enunciado\n",
        "1. \"Todos los años son mayores o iguales a 2010 y menores o iguales a 2018, siempre y cuando los meses de abril a diciembre no estén presentes dentro del año 2018\"."
      ]
    },
    {
      "cell_type": "code",
      "metadata": {
        "colab": {
          "base_uri": "https://localhost:8080/"
        },
        "id": "62pA2z5zERVf",
        "outputId": "d7dd494e-9ab3-4630-8752-4d7e11fb0206"
      },
      "source": [
        "# 1\n",
        "U = [1, 3, 3, 10]\n",
        "# predicado\n",
        "def F(x): return True if x % 2 != 0 else False\n",
        "# fbf\n",
        "all([F(x) for x in U])"
      ],
      "execution_count": null,
      "outputs": [
        {
          "output_type": "execute_result",
          "data": {
            "text/plain": [
              "False"
            ]
          },
          "metadata": {},
          "execution_count": 32
        }
      ]
    },
    {
      "cell_type": "code",
      "metadata": {
        "colab": {
          "base_uri": "https://localhost:8080/"
        },
        "id": "DZLHBWUEERVg",
        "outputId": "45471fa9-0546-493a-a37f-0e3451eebba4"
      },
      "source": [
        "# 2\n",
        "U = [1, 3, 3, 10]\n",
        "# predicados\n",
        "def F(x): return x < 10\n",
        "def G(x): return x % 2 == 1\n",
        "# fbf\n",
        "all(F(x) for x in U if G(x))"
      ],
      "execution_count": null,
      "outputs": [
        {
          "output_type": "execute_result",
          "data": {
            "text/plain": [
              "True"
            ]
          },
          "metadata": {},
          "execution_count": 33
        }
      ]
    },
    {
      "cell_type": "code",
      "metadata": {
        "colab": {
          "base_uri": "https://localhost:8080/"
        },
        "id": "4dEC1xxhERVg",
        "outputId": "34e79b9c-1b26-4058-bed8-c91722155d7d"
      },
      "source": [
        "# 3\n",
        "U = [1, 3, 3, 10]\n",
        "# predicados\n",
        "def F(x): return x > 10\n",
        "def G(x): return x % 2 == 1\n",
        "# fbf\n",
        "any([G(x) for x in U if F(x)])\n",
        "any([G(x) and F(x) for x in U])"
      ],
      "execution_count": null,
      "outputs": [
        {
          "output_type": "execute_result",
          "data": {
            "text/plain": [
              "False"
            ]
          },
          "metadata": {},
          "execution_count": 34
        }
      ]
    },
    {
      "cell_type": "code",
      "metadata": {
        "colab": {
          "base_uri": "https://localhost:8080/"
        },
        "id": "iXIieKWmERVg",
        "outputId": "35a7b43a-bcd3-4055-c51b-85ea7a90deba"
      },
      "source": [
        "# 4\n",
        "A = [0, 2, 4, 6]\n",
        "B = [0, 1, 2, 3]\n",
        "# predicado\n",
        "def F(a, b): return a == 2 * b\n",
        "# fbf\n",
        "all([any([F(a, b) for a in A]) for b in B])"
      ],
      "execution_count": null,
      "outputs": [
        {
          "output_type": "execute_result",
          "data": {
            "text/plain": [
              "True"
            ]
          },
          "metadata": {},
          "execution_count": 35
        }
      ]
    },
    {
      "cell_type": "code",
      "metadata": {
        "colab": {
          "base_uri": "https://localhost:8080/"
        },
        "id": "cr4Sd0LEERVg",
        "outputId": "0fc04df9-8932-4584-9d99-334540cb85c6"
      },
      "source": [
        "# 5\n",
        "U = [36, 33, 43, 75, 21, 92, 16, 34,\n",
        "    31, 35, 80, 45, 47, 10, 52, 45,\n",
        "    21, 58, 30, 42]\n",
        "# func. auxiliar\n",
        "def implies(a, b): return not(a and not b)\n",
        "# predicados \n",
        "def par(x): return x % 2 == 0\n",
        "def impar(x): return x % 2 != 0\n",
        "\n",
        "all(implies(par(x), not impar(x)) for x in U)"
      ],
      "execution_count": null,
      "outputs": [
        {
          "output_type": "execute_result",
          "data": {
            "text/plain": [
              "True"
            ]
          },
          "metadata": {},
          "execution_count": 36
        }
      ]
    },
    {
      "cell_type": "code",
      "metadata": {
        "colab": {
          "base_uri": "https://localhost:8080/"
        },
        "id": "6x7mw8EBERVg",
        "outputId": "1d8e4db2-c82d-41f4-e6f1-7124c8a94ae3"
      },
      "source": [
        "# 6\n",
        "U = [36, 33, 43, 75, 21, 92, 16, 34,\n",
        "    31, 35, 80, 45, 47, 10, 52, 45,\n",
        "    21, 58, 30, 42]\n",
        "# predicados \n",
        "def par(x): return x % 2 == 0\n",
        "def impar(x): return x % 2 != 0\n",
        "\n",
        "any(par(x) and impar(x) for x in U)"
      ],
      "execution_count": null,
      "outputs": [
        {
          "output_type": "execute_result",
          "data": {
            "text/plain": [
              "False"
            ]
          },
          "metadata": {},
          "execution_count": 37
        }
      ]
    },
    {
      "cell_type": "code",
      "metadata": {
        "colab": {
          "base_uri": "https://localhost:8080/"
        },
        "id": "CPNHxOy_ERVh",
        "outputId": "e527382b-93f2-49a7-a21a-53c13d3056d9"
      },
      "source": [
        "# 7\n",
        "X = [(2010, \"Jan\"), (2010, \"Feb\"), (2011, \"Feb\"),\n",
        "     (2015, \"Dec\"), (2018, \"Feb\"), (2018, \"Aug\")]\n",
        "# subconjunto auxiliar\n",
        "void = ['Apr', 'May', 'Jun', 'Jul', 'Aug', 'Sep', 'Oct', 'Nov', 'Dec']\n",
        "def F(x): return 2010 <= x <= 2018\n",
        "all([F(x[0]) and not (x[0] == 2018 and x[1] in void) for x in X])"
      ],
      "execution_count": null,
      "outputs": [
        {
          "output_type": "execute_result",
          "data": {
            "text/plain": [
              "False"
            ]
          },
          "metadata": {},
          "execution_count": 38
        }
      ]
    }
  ]
}