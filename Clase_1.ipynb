{
  "nbformat": 4,
  "nbformat_minor": 0,
  "metadata": {
    "kernelspec": {
      "display_name": "Python 3",
      "language": "python",
      "name": "python3"
    },
    "language_info": {
      "codemirror_mode": {
        "name": "ipython",
        "version": 3
      },
      "file_extension": ".py",
      "mimetype": "text/x-python",
      "name": "python",
      "nbconvert_exporter": "python",
      "pygments_lexer": "ipython3",
      "version": "3.6.8"
    },
    "colab": {
      "name": "Clase_1.ipynb",
      "provenance": [],
      "toc_visible": true,
      "include_colab_link": true
    }
  },
  "cells": [
    {
      "cell_type": "markdown",
      "metadata": {
        "id": "view-in-github",
        "colab_type": "text"
      },
      "source": [
        "<a href=\"https://colab.research.google.com/github/rjzevallos/python-intermedio/blob/main/Clase_1.ipynb\" target=\"_parent\"><img src=\"https://colab.research.google.com/assets/colab-badge.svg\" alt=\"Open In Colab\"/></a>"
      ]
    },
    {
      "cell_type": "markdown",
      "metadata": {
        "id": "3Svs5Fc9tgI1"
      },
      "source": [
        "# **Tema 1 - Librerías y Entornos Virtuales**"
      ]
    },
    {
      "cell_type": "markdown",
      "metadata": {
        "id": "K8ZPMStRtgI7"
      },
      "source": [
        "## Instalando librerías"
      ]
    },
    {
      "cell_type": "markdown",
      "metadata": {
        "id": "ggxLVVlktgI8"
      },
      "source": [
        "En este tópico veremos como instalar nuevas librerías que no se hayan encontrado al momento de instalar."
      ]
    },
    {
      "cell_type": "markdown",
      "metadata": {
        "id": "CfgFMsyqtgI8"
      },
      "source": [
        "* Para Python no existe diferencia conceptual entre una _librería_ y un _paquete_."
      ]
    },
    {
      "cell_type": "markdown",
      "metadata": {
        "id": "LkR4kuWMtgI9"
      },
      "source": [
        "### PIP\n",
        "`pip` es el instalador de liberías para Python. `pip` es usado para instalar librerías que se encuentren dentro [PyPI](https://pypi.org/) (_Python Pacakge Index_), un repositorio de código para Python."
      ]
    },
    {
      "cell_type": "code",
      "metadata": {
        "id": "nZDxTPyxtgI9",
        "colab": {
          "base_uri": "https://localhost:8080/"
        },
        "outputId": "10ef0cf9-e635-4b4d-8738-18dec852243b"
      },
      "source": [
        "# Usamos el comando pip para ver los comandos que podemos usar\n",
        "# Es importante saber que UNICAMENTE se usa el simbolo \"!\" cuando estamos en un entorno de cuaderno (.ipynb)\n",
        "!pip install pandas"
      ],
      "execution_count": null,
      "outputs": [
        {
          "output_type": "stream",
          "name": "stdout",
          "text": [
            "Requirement already satisfied: pandas in /usr/local/lib/python3.7/dist-packages (1.1.5)\n",
            "Requirement already satisfied: pytz>=2017.2 in /usr/local/lib/python3.7/dist-packages (from pandas) (2018.9)\n",
            "Requirement already satisfied: numpy>=1.15.4 in /usr/local/lib/python3.7/dist-packages (from pandas) (1.19.5)\n",
            "Requirement already satisfied: python-dateutil>=2.7.3 in /usr/local/lib/python3.7/dist-packages (from pandas) (2.8.2)\n",
            "Requirement already satisfied: six>=1.5 in /usr/local/lib/python3.7/dist-packages (from python-dateutil>=2.7.3->pandas) (1.15.0)\n"
          ]
        }
      ]
    },
    {
      "cell_type": "markdown",
      "metadata": {
        "id": "EXgH77UHtgI_"
      },
      "source": [
        "Para instalar un paquete por medio de `pip`, hacemos uso del comando\n",
        "\n",
        "```\n",
        "    pip install pkg_name\n",
        "```\n",
        "\n",
        "Donde `pkg_name` es el nombre de la librería a instalar"
      ]
    },
    {
      "cell_type": "markdown",
      "metadata": {
        "id": "SnOedz4utgJA"
      },
      "source": [
        "Para ver los paquetes que tenemos instalados por medio de `pip`, hacemos uso del comando\n",
        "\n",
        "```\n",
        "pip freeze\n",
        "```"
      ]
    },
    {
      "cell_type": "code",
      "metadata": {
        "id": "-cEMOOM4tgJB",
        "colab": {
          "base_uri": "https://localhost:8080/"
        },
        "outputId": "13433865-7421-4a8e-eb9b-cac36b47b4cd"
      },
      "source": [
        "# Primeros diez elementos instalados\n",
        "!pip freeze | head -n 10"
      ],
      "execution_count": null,
      "outputs": [
        {
          "output_type": "stream",
          "name": "stdout",
          "text": [
            "absl-py==0.12.0\n",
            "alabaster==0.7.12\n",
            "albumentations==0.1.12\n",
            "altair==4.1.0\n",
            "appdirs==1.4.4\n",
            "argcomplete==1.12.3\n",
            "argon2-cffi==21.1.0\n",
            "arviz==0.11.2\n",
            "astor==0.8.1\n",
            "astropy==4.3.1\n"
          ]
        }
      ]
    },
    {
      "cell_type": "markdown",
      "metadata": {
        "id": "7Y4ntWTotgJB"
      },
      "source": [
        "Para **actualizar** una librería, hacemos uso del comando:\n",
        "\n",
        "```\n",
        "pip install -U pkg_name\n",
        "```\n",
        "\n",
        "donde `pkg_name` es el nombre de la librería a actualizar"
      ]
    },
    {
      "cell_type": "markdown",
      "metadata": {
        "id": "CKOj480-tgJC"
      },
      "source": [
        "----\n",
        "### Conda\n",
        "A diferencia de `pip`, `conda` es un administrador de _entornos_ y _librerías_ para cualquier lenguaje. `conda` viene incluído al descargar Anaconda."
      ]
    },
    {
      "cell_type": "markdown",
      "metadata": {
        "id": "m7fy-yvotgJC"
      },
      "source": [
        "Para descargar una librería usando `conda`, hacemos uso del comando \n",
        "\n",
        "```\n",
        "conda install pkg_name\n",
        "```"
      ]
    },
    {
      "cell_type": "markdown",
      "metadata": {
        "id": "fORIR7prtgJC"
      },
      "source": [
        "De querer actualizar una librería dentro de conda hacemos uso del comando\n",
        "\n",
        "```\n",
        "conda update pkg_name\n",
        "```"
      ]
    },
    {
      "cell_type": "markdown",
      "metadata": {
        "id": "Pnba6d1ttgJD"
      },
      "source": [
        "De querer actualizar todas las librerías, hacemos uso del comando\n",
        "\n",
        "```\n",
        "conda update --all\n",
        "```\n"
      ]
    },
    {
      "cell_type": "markdown",
      "metadata": {
        "id": "TFBd6ab_tgJD"
      },
      "source": [
        "----\n",
        "### ¿`pip` o `conda`?"
      ]
    },
    {
      "cell_type": "markdown",
      "metadata": {
        "id": "rg8BTlwEtgJD"
      },
      "source": [
        "`pip` fue diseñado para instalar librerías de python exclusivamente. En ocasiones, dichas librerías dependen de otros lenguajes de programación externos a Python para que puedan correr.\n",
        "\n",
        "Librerías como `tensorflow`, por ejemplo, depende del lenguaje `C++` para poder corer cálculos. Aunque es posible instalarlo por medio de `pip`, instalarlo por medio de `pip install tensorflow` no garantiza que la librería cargue.\n",
        "\n",
        "`conda` fue creado para lidiar con este problema."
      ]
    },
    {
      "cell_type": "markdown",
      "metadata": {
        "id": "n7vaxGGvtgJE"
      },
      "source": [
        "## ¿En dónde viven las librerías dentro de Python?\n",
        "\n",
        "La mayoría de librerías se encuentra en la carpeta de python pero a veces nosotros podemos instalar esas librerías en otras direcciones, eso lo veremos luego cuando instalemos entornos virtuales."
      ]
    },
    {
      "cell_type": "markdown",
      "metadata": {
        "id": "587elAOStgJF"
      },
      "source": [
        "Python instala los paquetes que hayamos descargado dentro del directorio `site-packages`"
      ]
    },
    {
      "cell_type": "code",
      "metadata": {
        "id": "SPM63avrtgJF"
      },
      "source": [
        "import site\n",
        "site.getsitepackages()"
      ],
      "execution_count": null,
      "outputs": []
    },
    {
      "cell_type": "markdown",
      "metadata": {
        "id": "u5s16rxltgJI"
      },
      "source": [
        "Cuando importamos una librería, python busca el paquete dentro del directorio `site-packages` para posteriormente cargarlo en la memoria.\n",
        "\n",
        "Los siguientes comandos nos muestran los primeros dos _niveles_ del directorio `site-packages`"
      ]
    },
    {
      "cell_type": "markdown",
      "metadata": {
        "id": "OIlUg69WtgJJ"
      },
      "source": [
        "Al tener un proyecto que deseemos desarrollar, muy probablemente este dependa de otras librerías que tengamos que instalar. Si instalamos paquete tras paquete y perdemos rastro de cuáles dependen de nuestros proyectos,\n",
        "* ¿Cómo sabríamos que paquetes únicamente necesarios para nuestros proyectos?\n",
        "* ¿Qué sucede si dos proyectos requiren dos versiones diferentes de un mismo proyecto?"
      ]
    },
    {
      "cell_type": "markdown",
      "metadata": {
        "id": "X2NnYh4PtgJK"
      },
      "source": [
        "## Virtual Environments al rescate\n",
        "(Entorno virtual)"
      ]
    },
    {
      "cell_type": "markdown",
      "metadata": {
        "id": "f27GC2wptgJK"
      },
      "source": [
        "Para solucionar las cuestiones planteadas arriba, podemos hacer uso de un **virtual environment** o _venv_.\n",
        "\n",
        "Un _venv_ es\n",
        "> Un árbol de directorios autocontenido que contiene una instalación de Python para una versión específica, adicional de  un número de paquetes adicionales"
      ]
    },
    {
      "cell_type": "markdown",
      "metadata": {
        "id": "6DqGoBMgaKF8"
      },
      "source": [
        "Para poder crear entornos virtuales, debemos instalar virtualvenv usiando pip.\n",
        "\n",
        "\n",
        "\n",
        "```\n",
        "pip install virtualenv\n",
        "```\n",
        "\n"
      ]
    },
    {
      "cell_type": "markdown",
      "metadata": {
        "id": "XPgLNVo0tgJL"
      },
      "source": [
        "Para crear un nuevo entorno usamos el comando dentro de la línea de comandos:\n",
        "\n",
        "```bash\n",
        "virtualenv tutorial-env\n",
        "```"
      ]
    },
    {
      "cell_type": "markdown",
      "metadata": {
        "id": "uPO1Ki2HxYOl"
      },
      "source": [
        "Para activar nuestro entorno virtual usamos el siguiente comando\n",
        "\n",
        "```bash\n",
        "source /tutorial-env/bin/activate\n",
        "```"
      ]
    },
    {
      "cell_type": "markdown",
      "metadata": {
        "id": "7SgIsay0tgJM"
      },
      "source": [
        "Una vez activado el entorno, instalando _librerías_ por medio de pip las instalará ahora dentro de nuestro entorno. En el siguiente ejemplo, instalaremos Python 3.7 dentro del enorno `tutorial-env` "
      ]
    },
    {
      "cell_type": "markdown",
      "metadata": {
        "id": "V4YVfH3QtgJN"
      },
      "source": [
        "## Ejercicios\n",
        "\n",
        "1. Creando un _virtual environment_:\n",
        "    1. Con el nombre de tu nombre;\n",
        "    2. Activa el environment \n",
        "    3. Instala la librería pandas dentro de tu entorno virtual`\n",
        "    4. Prueba la librería pandas cargando un archivo excel\n",
        "    \n",
        "----\n",
        "\n",
        "\n",
        "2. Instalando librerías dentro de un directorio:\n",
        "    1. Crea un nuevo directorio llamado `lib`\n",
        "    2. Corre el siguiente comando: `pip install Fire --src lib`\n",
        "    3. Observa los contenido de `lib`\n",
        "    4. Cambia de directorio: entra a `./lib` y ejecuta python.\n",
        "    5. Importa el objeto `Fire` desde `fire` (`from fire import Fire`)"
      ]
    },
    {
      "cell_type": "markdown",
      "metadata": {
        "id": "WQGui6TOtgJO"
      },
      "source": [
        "## Referencias\n",
        "1. https://docs.python.org/3/tutorial/venv.html\n",
        "2. https://conda.io/projects/conda/en/latest/user-guide/tasks/manage-environments.html\n",
        "3. https://jakevdp.github.io/blog/2016/08/25/conda-myths-and-misconceptions/\n",
        "4. https://conda.io/en/latest/"
      ]
    },
    {
      "cell_type": "markdown",
      "metadata": {
        "id": "A7XMMd6KbLk5"
      },
      "source": [
        "---------------------"
      ]
    },
    {
      "cell_type": "markdown",
      "metadata": {
        "id": "eXw5Xw1Ha_vZ"
      },
      "source": [
        "# **Tema 2 - Depuración y Excepciones**"
      ]
    },
    {
      "cell_type": "markdown",
      "metadata": {
        "id": "MbuXc0gqbX3R"
      },
      "source": [
        "En ocasiones, el código que escribimos cuenta con errores que nos impiden continuar con el desarrollo de nuestro programa. A grades rasgos, podemos decir que existen tres tipos principales de errores con los cuales nos podemos topar:\n",
        "\n",
        "\n",
        "\n",
        "*   Syntax Error\n",
        "*   Sematic Errors\n",
        "*   Logical Errors\n"
      ]
    },
    {
      "cell_type": "markdown",
      "metadata": {
        "id": "MHpSrs4ibn8P"
      },
      "source": [
        "## Syntax Error\n",
        "\n",
        "Un error de sintaxis occure cuando python detecta una expresión que viola la manera de escribir código dentro de python.\n",
        "Al correr un programa con un syntax error, python nos indica en qué parte del código se encuentra el código inválido"
      ]
    },
    {
      "cell_type": "code",
      "metadata": {
        "id": "YOb544Dlcf2D",
        "colab": {
          "base_uri": "https://localhost:8080/",
          "height": 128
        },
        "outputId": "612f4f8b-1423-4aa1-c0b2-e29d50d2636f"
      },
      "source": [
        "# Error: \n",
        "#    omitimos dos puntos después de la definición de la función\n",
        "#    un punto fuera de lugar depues de 'return'\n",
        "def suma2(a)\n",
        "    return. a + 2"
      ],
      "execution_count": null,
      "outputs": [
        {
          "output_type": "error",
          "ename": "SyntaxError",
          "evalue": "ignored",
          "traceback": [
            "\u001b[0;36m  File \u001b[0;32m\"<ipython-input-3-4ce0fa08ff1c>\"\u001b[0;36m, line \u001b[0;32m4\u001b[0m\n\u001b[0;31m    def suma2(a)\u001b[0m\n\u001b[0m                ^\u001b[0m\n\u001b[0;31mSyntaxError\u001b[0m\u001b[0;31m:\u001b[0m invalid syntax\n"
          ]
        }
      ]
    },
    {
      "cell_type": "code",
      "metadata": {
        "id": "Rl1bCYWrck4Z",
        "colab": {
          "base_uri": "https://localhost:8080/",
          "height": 128
        },
        "outputId": "e6fca99e-6833-47b3-e684-fae84dd48bb0"
      },
      "source": [
        "# Error: Olvidamos abrir un paréntesis\n",
        "(1 / 2) + 2)"
      ],
      "execution_count": null,
      "outputs": [
        {
          "output_type": "error",
          "ename": "SyntaxError",
          "evalue": "ignored",
          "traceback": [
            "\u001b[0;36m  File \u001b[0;32m\"<ipython-input-4-eb6f74767a7e>\"\u001b[0;36m, line \u001b[0;32m2\u001b[0m\n\u001b[0;31m    (1 / 2) + 2)\u001b[0m\n\u001b[0m               ^\u001b[0m\n\u001b[0;31mSyntaxError\u001b[0m\u001b[0;31m:\u001b[0m invalid syntax\n"
          ]
        }
      ]
    },
    {
      "cell_type": "code",
      "metadata": {
        "id": "pO4hvrVycloV",
        "colab": {
          "base_uri": "https://localhost:8080/",
          "height": 128
        },
        "outputId": "4a05137f-2a62-4466-989f-1717d3c8a17b"
      },
      "source": [
        "5f = \"f\" * 5"
      ],
      "execution_count": null,
      "outputs": [
        {
          "output_type": "error",
          "ename": "SyntaxError",
          "evalue": "ignored",
          "traceback": [
            "\u001b[0;36m  File \u001b[0;32m\"<ipython-input-5-63681a88bd67>\"\u001b[0;36m, line \u001b[0;32m1\u001b[0m\n\u001b[0;31m    5f = \"f\" * 5\u001b[0m\n\u001b[0m     ^\u001b[0m\n\u001b[0;31mSyntaxError\u001b[0m\u001b[0;31m:\u001b[0m invalid syntax\n"
          ]
        }
      ]
    },
    {
      "cell_type": "markdown",
      "metadata": {
        "id": "3kv1d8TUcrru"
      },
      "source": [
        "**IMPORTANTE** -- No considerar una sangría se considera un error de sintaxis."
      ]
    },
    {
      "cell_type": "code",
      "metadata": {
        "id": "MsJPLuF9czRx",
        "colab": {
          "base_uri": "https://localhost:8080/",
          "height": 128
        },
        "outputId": "e102ad3a-367f-40ee-94be-f705c988991a"
      },
      "source": [
        "for i in range(10):\n",
        "print(i, sep=\" \")"
      ],
      "execution_count": null,
      "outputs": [
        {
          "output_type": "error",
          "ename": "IndentationError",
          "evalue": "ignored",
          "traceback": [
            "\u001b[0;36m  File \u001b[0;32m\"<ipython-input-8-9dc74d382760>\"\u001b[0;36m, line \u001b[0;32m2\u001b[0m\n\u001b[0;31m    print(i, sep=\" \")\u001b[0m\n\u001b[0m        ^\u001b[0m\n\u001b[0;31mIndentationError\u001b[0m\u001b[0;31m:\u001b[0m expected an indented block\n"
          ]
        }
      ]
    },
    {
      "cell_type": "code",
      "metadata": {
        "id": "4R-roBKDc8gu",
        "colab": {
          "base_uri": "https://localhost:8080/"
        },
        "outputId": "911ae2e6-1e1a-45e7-c287-d7a9227c9b13"
      },
      "source": [
        "# Validamos que un error de sangría pertenzca a un error de sintáxis\n",
        "issubclass(IndentationError, SyntaxError)"
      ],
      "execution_count": null,
      "outputs": [
        {
          "output_type": "execute_result",
          "data": {
            "text/plain": [
              "True"
            ]
          },
          "metadata": {},
          "execution_count": 9
        }
      ]
    },
    {
      "cell_type": "markdown",
      "metadata": {
        "id": "6W17ioPldBDu"
      },
      "source": [
        "## Semantic Error\n",
        "\n",
        "Un error semántico occure cuando la sintáxis de un programa es correcto, pero el resultado del programa arroja un error dado un uso incorrecto de alguna función u operación."
      ]
    },
    {
      "cell_type": "code",
      "metadata": {
        "id": "OPgGEzV9dIPO"
      },
      "source": [
        "def power(a, b):\n",
        "    return a ** b"
      ],
      "execution_count": null,
      "outputs": []
    },
    {
      "cell_type": "code",
      "metadata": {
        "id": "61f8-KJhdI0u",
        "colab": {
          "base_uri": "https://localhost:8080/",
          "height": 229
        },
        "outputId": "620b0ff3-5bc3-4a3d-cf5e-8ea09c550719"
      },
      "source": [
        "power(3, \"a\")"
      ],
      "execution_count": null,
      "outputs": [
        {
          "output_type": "error",
          "ename": "TypeError",
          "evalue": "ignored",
          "traceback": [
            "\u001b[0;31m---------------------------------------------------------------------------\u001b[0m",
            "\u001b[0;31mTypeError\u001b[0m                                 Traceback (most recent call last)",
            "\u001b[0;32m<ipython-input-11-d6b91e06519a>\u001b[0m in \u001b[0;36m<module>\u001b[0;34m()\u001b[0m\n\u001b[0;32m----> 1\u001b[0;31m \u001b[0mpower\u001b[0m\u001b[0;34m(\u001b[0m\u001b[0;36m3\u001b[0m\u001b[0;34m,\u001b[0m \u001b[0;34m\"a\"\u001b[0m\u001b[0;34m)\u001b[0m\u001b[0;34m\u001b[0m\u001b[0;34m\u001b[0m\u001b[0m\n\u001b[0m",
            "\u001b[0;32m<ipython-input-10-6b8c6f114cdc>\u001b[0m in \u001b[0;36mpower\u001b[0;34m(a, b)\u001b[0m\n\u001b[1;32m      1\u001b[0m \u001b[0;32mdef\u001b[0m \u001b[0mpower\u001b[0m\u001b[0;34m(\u001b[0m\u001b[0ma\u001b[0m\u001b[0;34m,\u001b[0m \u001b[0mb\u001b[0m\u001b[0;34m)\u001b[0m\u001b[0;34m:\u001b[0m\u001b[0;34m\u001b[0m\u001b[0;34m\u001b[0m\u001b[0m\n\u001b[0;32m----> 2\u001b[0;31m     \u001b[0;32mreturn\u001b[0m \u001b[0ma\u001b[0m \u001b[0;34m**\u001b[0m \u001b[0mb\u001b[0m\u001b[0;34m\u001b[0m\u001b[0;34m\u001b[0m\u001b[0m\n\u001b[0m",
            "\u001b[0;31mTypeError\u001b[0m: unsupported operand type(s) for ** or pow(): 'int' and 'str'"
          ]
        }
      ]
    },
    {
      "cell_type": "markdown",
      "metadata": {
        "id": "4Cnvb9sldOz3"
      },
      "source": [
        "En el ejemplo anterior, la definición de nuestra función es correcta. Sin embargo, al tratar de evaluar power(3, \"a\"), nuestro programa trata de elevar 3 al string \"a\", lo cuál no tiene sentido. Por lo que nos arroja una excepción en el código."
      ]
    },
    {
      "cell_type": "markdown",
      "metadata": {
        "id": "bUVpeLQYdPnu"
      },
      "source": [
        "**IMPORTANTE** -- En python, cualquier error que detenga un programa se conoce como una excepción."
      ]
    },
    {
      "cell_type": "code",
      "metadata": {
        "colab": {
          "base_uri": "https://localhost:8080/"
        },
        "id": "UEMc_9l3dZfU",
        "outputId": "198404f3-7aca-412e-89f8-589906f297e9"
      },
      "source": [
        "issubclass(TypeError, Exception)"
      ],
      "execution_count": null,
      "outputs": [
        {
          "output_type": "execute_result",
          "data": {
            "text/plain": [
              "True"
            ]
          },
          "metadata": {},
          "execution_count": 12
        }
      ]
    },
    {
      "cell_type": "markdown",
      "metadata": {
        "id": "MdGVm26ddjLN"
      },
      "source": [
        "Python cuenta con varias excepciones incorporadas en el lenguaje e igual nos permite declarar nuestras propias excepciones."
      ]
    },
    {
      "cell_type": "code",
      "metadata": {
        "id": "K21JQe41dk8_",
        "colab": {
          "base_uri": "https://localhost:8080/",
          "height": 162
        },
        "outputId": "114686a9-9f59-4b08-fe29-847abe390002"
      },
      "source": [
        "7 / 0"
      ],
      "execution_count": null,
      "outputs": [
        {
          "output_type": "error",
          "ename": "ZeroDivisionError",
          "evalue": "ignored",
          "traceback": [
            "\u001b[0;31m---------------------------------------------------------------------------\u001b[0m",
            "\u001b[0;31mZeroDivisionError\u001b[0m                         Traceback (most recent call last)",
            "\u001b[0;32m<ipython-input-13-c0c9dc45e2b4>\u001b[0m in \u001b[0;36m<module>\u001b[0;34m()\u001b[0m\n\u001b[0;32m----> 1\u001b[0;31m \u001b[0;36m7\u001b[0m \u001b[0;34m/\u001b[0m \u001b[0;36m0\u001b[0m\u001b[0;34m\u001b[0m\u001b[0;34m\u001b[0m\u001b[0m\n\u001b[0m",
            "\u001b[0;31mZeroDivisionError\u001b[0m: division by zero"
          ]
        }
      ]
    },
    {
      "cell_type": "code",
      "metadata": {
        "id": "rMkMdqq9dp41"
      },
      "source": [
        "import pandas"
      ],
      "execution_count": null,
      "outputs": []
    },
    {
      "cell_type": "code",
      "metadata": {
        "colab": {
          "base_uri": "https://localhost:8080/",
          "height": 195
        },
        "id": "3MTgt9q2dy5h",
        "outputId": "c8b42001-8b30-416b-b552-6eff00d8a16d"
      },
      "source": [
        "alumno = {\n",
        "    \"nombre\": \"Isaac\",\n",
        "    \"apellido\": \"Newton\",\n",
        "    \"edad\": 375,\n",
        "}\n",
        "\n",
        "alumno[\"invenciones\"]"
      ],
      "execution_count": null,
      "outputs": [
        {
          "output_type": "error",
          "ename": "KeyError",
          "evalue": "ignored",
          "traceback": [
            "\u001b[0;31m---------------------------------------------------------------------------\u001b[0m",
            "\u001b[0;31mKeyError\u001b[0m                                  Traceback (most recent call last)",
            "\u001b[0;32m<ipython-input-16-fe8b0360ad22>\u001b[0m in \u001b[0;36m<module>\u001b[0;34m()\u001b[0m\n\u001b[1;32m      5\u001b[0m }\n\u001b[1;32m      6\u001b[0m \u001b[0;34m\u001b[0m\u001b[0m\n\u001b[0;32m----> 7\u001b[0;31m \u001b[0malumno\u001b[0m\u001b[0;34m[\u001b[0m\u001b[0;34m\"invenciones\"\u001b[0m\u001b[0;34m]\u001b[0m\u001b[0;34m\u001b[0m\u001b[0;34m\u001b[0m\u001b[0m\n\u001b[0m",
            "\u001b[0;31mKeyError\u001b[0m: 'invenciones'"
          ]
        }
      ]
    },
    {
      "cell_type": "code",
      "metadata": {
        "id": "x76IGFC8d5-k",
        "colab": {
          "base_uri": "https://localhost:8080/",
          "height": 178
        },
        "outputId": "c0a52b40-2671-4ede-e009-3609ca1e4888"
      },
      "source": [
        "a = 42\n",
        "a * b"
      ],
      "execution_count": null,
      "outputs": [
        {
          "output_type": "error",
          "ename": "NameError",
          "evalue": "ignored",
          "traceback": [
            "\u001b[0;31m---------------------------------------------------------------------------\u001b[0m",
            "\u001b[0;31mNameError\u001b[0m                                 Traceback (most recent call last)",
            "\u001b[0;32m<ipython-input-17-3921907d5986>\u001b[0m in \u001b[0;36m<module>\u001b[0;34m()\u001b[0m\n\u001b[1;32m      1\u001b[0m \u001b[0ma\u001b[0m \u001b[0;34m=\u001b[0m \u001b[0;36m42\u001b[0m\u001b[0;34m\u001b[0m\u001b[0;34m\u001b[0m\u001b[0m\n\u001b[0;32m----> 2\u001b[0;31m \u001b[0ma\u001b[0m \u001b[0;34m*\u001b[0m \u001b[0mb\u001b[0m\u001b[0;34m\u001b[0m\u001b[0;34m\u001b[0m\u001b[0m\n\u001b[0m",
            "\u001b[0;31mNameError\u001b[0m: name 'b' is not defined"
          ]
        }
      ]
    },
    {
      "cell_type": "markdown",
      "metadata": {
        "id": "jYsjKP2GdkDa"
      },
      "source": [
        "## Logical Errors\n",
        "\n",
        "Los errores lógicos ocurren cuando el programa no se topa con alguna excepción, pero el resultado del programa no es el esperado por el usuario, i.e., la descripción del programa no fue correctamente especificada."
      ]
    },
    {
      "cell_type": "markdown",
      "metadata": {
        "id": "sY4mFcG7eB7b"
      },
      "source": [
        "Un ejemplo bastante sencillo de un error lógico sería calcular el área de un círculo de una manera incorrecta, e.g., calcular $\\pi^2 r$ en lugar de $\\pi r^2$"
      ]
    },
    {
      "cell_type": "code",
      "metadata": {
        "colab": {
          "base_uri": "https://localhost:8080/"
        },
        "id": "xWPxEe0BeHWn",
        "outputId": "1afd4a6c-6011-482a-fd0e-32755389996a"
      },
      "source": [
        "from math import pi\n",
        "\n",
        "def area_circle(radius):\n",
        "    return radius * pi ** 2\n",
        "\n",
        "area_circle(2) # Debería ser ~ 12.566"
      ],
      "execution_count": null,
      "outputs": [
        {
          "output_type": "execute_result",
          "data": {
            "text/plain": [
              "19.739208802178716"
            ]
          },
          "metadata": {},
          "execution_count": 18
        }
      ]
    },
    {
      "cell_type": "markdown",
      "metadata": {
        "id": "lITZWHHqeSVi"
      },
      "source": [
        "Bajo el ejemplo anterior, la función area_circle nunca nos arrojará un error siempre y cuando type(circle_radius) in [float, int]. Sin embargo el cálculo realizado no es el correcto.\n",
        "\n",
        "Al tener un código muy complejo, una manera recomendada de revisar si el código es correcto o no es evaluando el programa bajo ejemplos fáciles de evaluar. (nota: Esta recomendación no garantiza que que el programa se encuentre libre de errores lógicos, pero sí maximiza la probabilidad)"
      ]
    },
    {
      "cell_type": "markdown",
      "metadata": {
        "id": "4yoKrpYreWt9"
      },
      "source": [
        "Ejemplo\n",
        "\n",
        "Se quiere definir la función diamond que imprima que, dado un parámetro row con el número total de filas, imprima un diamante de la siguiente manera.\n"
      ]
    },
    {
      "cell_type": "markdown",
      "metadata": {
        "id": "3XRvydHIejJM"
      },
      "source": [
        "\n",
        "\n",
        "```\n",
        "    *    \n",
        "   ***   \n",
        "  *****  \n",
        " ******* \n",
        "*********\n",
        " ******* \n",
        "  *****  \n",
        "   ***   \n",
        "    *\n",
        "```\n",
        "\n"
      ]
    },
    {
      "cell_type": "code",
      "metadata": {
        "id": "tGzJ4wNgetOH"
      },
      "source": [
        "def diamond(rows):\n",
        "    total_diamond = \"\"\n",
        "    mid_row = rows / 2 - 0.5\n",
        "    for i in range(rows):\n",
        "        if i <= mid_row:\n",
        "            nelemen = i + 1\n",
        "        else:\n",
        "            row_factor = (i - mid_row ) \n",
        "            nelemen = rows - row_factor\n",
        "\n",
        "        # row = \"*\" * nelemen.center(rows, \" \")\n",
        "        # total_diamond += row + \"\\n\"\n",
        "        print(nelemen)"
      ],
      "execution_count": null,
      "outputs": []
    },
    {
      "cell_type": "markdown",
      "metadata": {
        "id": "aThpZbeke1b7"
      },
      "source": [
        "¿Cómo arreglariamos el código?"
      ]
    },
    {
      "cell_type": "code",
      "metadata": {
        "colab": {
          "base_uri": "https://localhost:8080/",
          "height": 313
        },
        "id": "TtVhpMkDe2eK",
        "outputId": "68be74d1-35ff-46ad-a48d-c7102ba8a156"
      },
      "source": [
        "def diamond(rows):\n",
        "    total_diamond = \"\"\n",
        "    mid_row = rows / 2 - 0.5\n",
        "    for i in range(rows):\n",
        "        if i <= mid_row:\n",
        "            nelemen = i + 1\n",
        "        else:\n",
        "            row_factor = (i - mid_row) \n",
        "            nelemen = rows - row_factor\n",
        "        # Quitando los comentarios nos arroja el siguiente resultado\n",
        "        row = \"*\" * nelemen.center(rows, \" \")\n",
        "        print(row)\n",
        "        total_diamond += row + \"\\n\"\n",
        "        \n",
        "diamond(9)"
      ],
      "execution_count": null,
      "outputs": [
        {
          "output_type": "error",
          "ename": "AttributeError",
          "evalue": "ignored",
          "traceback": [
            "\u001b[0;31m---------------------------------------------------------------------------\u001b[0m",
            "\u001b[0;31mAttributeError\u001b[0m                            Traceback (most recent call last)",
            "\u001b[0;32m<ipython-input-20-0d136b1fde4b>\u001b[0m in \u001b[0;36m<module>\u001b[0;34m()\u001b[0m\n\u001b[1;32m     13\u001b[0m         \u001b[0mtotal_diamond\u001b[0m \u001b[0;34m+=\u001b[0m \u001b[0mrow\u001b[0m \u001b[0;34m+\u001b[0m \u001b[0;34m\"\\n\"\u001b[0m\u001b[0;34m\u001b[0m\u001b[0;34m\u001b[0m\u001b[0m\n\u001b[1;32m     14\u001b[0m \u001b[0;34m\u001b[0m\u001b[0m\n\u001b[0;32m---> 15\u001b[0;31m \u001b[0mdiamond\u001b[0m\u001b[0;34m(\u001b[0m\u001b[0;36m9\u001b[0m\u001b[0;34m)\u001b[0m\u001b[0;34m\u001b[0m\u001b[0;34m\u001b[0m\u001b[0m\n\u001b[0m",
            "\u001b[0;32m<ipython-input-20-0d136b1fde4b>\u001b[0m in \u001b[0;36mdiamond\u001b[0;34m(rows)\u001b[0m\n\u001b[1;32m      9\u001b[0m             \u001b[0mnelemen\u001b[0m \u001b[0;34m=\u001b[0m \u001b[0mrows\u001b[0m \u001b[0;34m-\u001b[0m \u001b[0mrow_factor\u001b[0m\u001b[0;34m\u001b[0m\u001b[0;34m\u001b[0m\u001b[0m\n\u001b[1;32m     10\u001b[0m         \u001b[0;31m# Quitando los comentarios nos arroja el siguiente resultado\u001b[0m\u001b[0;34m\u001b[0m\u001b[0;34m\u001b[0m\u001b[0;34m\u001b[0m\u001b[0m\n\u001b[0;32m---> 11\u001b[0;31m         \u001b[0mrow\u001b[0m \u001b[0;34m=\u001b[0m \u001b[0;34m\"*\"\u001b[0m \u001b[0;34m*\u001b[0m \u001b[0mnelemen\u001b[0m\u001b[0;34m.\u001b[0m\u001b[0mcenter\u001b[0m\u001b[0;34m(\u001b[0m\u001b[0mrows\u001b[0m\u001b[0;34m,\u001b[0m \u001b[0;34m\" \"\u001b[0m\u001b[0;34m)\u001b[0m\u001b[0;34m\u001b[0m\u001b[0;34m\u001b[0m\u001b[0m\n\u001b[0m\u001b[1;32m     12\u001b[0m         \u001b[0mprint\u001b[0m\u001b[0;34m(\u001b[0m\u001b[0mrow\u001b[0m\u001b[0;34m)\u001b[0m\u001b[0;34m\u001b[0m\u001b[0;34m\u001b[0m\u001b[0m\n\u001b[1;32m     13\u001b[0m         \u001b[0mtotal_diamond\u001b[0m \u001b[0;34m+=\u001b[0m \u001b[0mrow\u001b[0m \u001b[0;34m+\u001b[0m \u001b[0;34m\"\\n\"\u001b[0m\u001b[0;34m\u001b[0m\u001b[0;34m\u001b[0m\u001b[0m\n",
            "\u001b[0;31mAttributeError\u001b[0m: 'int' object has no attribute 'center'"
          ]
        }
      ]
    },
    {
      "cell_type": "markdown",
      "metadata": {
        "id": "TzgE41nEe-11"
      },
      "source": [
        "Fijándonos en la última celda, vemos que el programa nos arroja un error de sintaxis."
      ]
    },
    {
      "cell_type": "code",
      "metadata": {
        "colab": {
          "base_uri": "https://localhost:8080/",
          "height": 397
        },
        "id": "4GOKc6RtfDJs",
        "outputId": "9d22084f-6527-4577-eae9-eb8a86488b57"
      },
      "source": [
        "def diamond(rows):\n",
        "    total_diamond = \"\"\n",
        "    mid_row = rows / 2 - 0.5\n",
        "    for i in range(rows):\n",
        "        if i <= mid_row:\n",
        "            nelemen = i + 1\n",
        "        else:\n",
        "            row_factor = (i - mid_row) \n",
        "            nelemen = rows - row_factor\n",
        "        # Agregamos los paréntesis faltantes\n",
        "        row = (\"*\" * nelemen).center(rows, \" \")\n",
        "        total_diamond += row + \"\\n\"\n",
        "        print(row)\n",
        "        \n",
        "diamond(9)"
      ],
      "execution_count": null,
      "outputs": [
        {
          "output_type": "stream",
          "name": "stdout",
          "text": [
            "    *    \n",
            "    **   \n",
            "   ***   \n",
            "   ****  \n",
            "  *****  \n"
          ]
        },
        {
          "output_type": "error",
          "ename": "TypeError",
          "evalue": "ignored",
          "traceback": [
            "\u001b[0;31m---------------------------------------------------------------------------\u001b[0m",
            "\u001b[0;31mTypeError\u001b[0m                                 Traceback (most recent call last)",
            "\u001b[0;32m<ipython-input-21-c4c76b0ebce5>\u001b[0m in \u001b[0;36m<module>\u001b[0;34m()\u001b[0m\n\u001b[1;32m     13\u001b[0m         \u001b[0mprint\u001b[0m\u001b[0;34m(\u001b[0m\u001b[0mrow\u001b[0m\u001b[0;34m)\u001b[0m\u001b[0;34m\u001b[0m\u001b[0;34m\u001b[0m\u001b[0m\n\u001b[1;32m     14\u001b[0m \u001b[0;34m\u001b[0m\u001b[0m\n\u001b[0;32m---> 15\u001b[0;31m \u001b[0mdiamond\u001b[0m\u001b[0;34m(\u001b[0m\u001b[0;36m9\u001b[0m\u001b[0;34m)\u001b[0m\u001b[0;34m\u001b[0m\u001b[0;34m\u001b[0m\u001b[0m\n\u001b[0m",
            "\u001b[0;32m<ipython-input-21-c4c76b0ebce5>\u001b[0m in \u001b[0;36mdiamond\u001b[0;34m(rows)\u001b[0m\n\u001b[1;32m      9\u001b[0m             \u001b[0mnelemen\u001b[0m \u001b[0;34m=\u001b[0m \u001b[0mrows\u001b[0m \u001b[0;34m-\u001b[0m \u001b[0mrow_factor\u001b[0m\u001b[0;34m\u001b[0m\u001b[0;34m\u001b[0m\u001b[0m\n\u001b[1;32m     10\u001b[0m         \u001b[0;31m# Agregamos los paréntesis faltantes\u001b[0m\u001b[0;34m\u001b[0m\u001b[0;34m\u001b[0m\u001b[0;34m\u001b[0m\u001b[0m\n\u001b[0;32m---> 11\u001b[0;31m         \u001b[0mrow\u001b[0m \u001b[0;34m=\u001b[0m \u001b[0;34m(\u001b[0m\u001b[0;34m\"*\"\u001b[0m \u001b[0;34m*\u001b[0m \u001b[0mnelemen\u001b[0m\u001b[0;34m)\u001b[0m\u001b[0;34m.\u001b[0m\u001b[0mcenter\u001b[0m\u001b[0;34m(\u001b[0m\u001b[0mrows\u001b[0m\u001b[0;34m,\u001b[0m \u001b[0;34m\" \"\u001b[0m\u001b[0;34m)\u001b[0m\u001b[0;34m\u001b[0m\u001b[0;34m\u001b[0m\u001b[0m\n\u001b[0m\u001b[1;32m     12\u001b[0m         \u001b[0mtotal_diamond\u001b[0m \u001b[0;34m+=\u001b[0m \u001b[0mrow\u001b[0m \u001b[0;34m+\u001b[0m \u001b[0;34m\"\\n\"\u001b[0m\u001b[0;34m\u001b[0m\u001b[0;34m\u001b[0m\u001b[0m\n\u001b[1;32m     13\u001b[0m         \u001b[0mprint\u001b[0m\u001b[0;34m(\u001b[0m\u001b[0mrow\u001b[0m\u001b[0;34m)\u001b[0m\u001b[0;34m\u001b[0m\u001b[0;34m\u001b[0m\u001b[0m\n",
            "\u001b[0;31mTypeError\u001b[0m: can't multiply sequence by non-int of type 'float'"
          ]
        }
      ]
    },
    {
      "cell_type": "markdown",
      "metadata": {
        "id": "bMx_X9qBfGs-"
      },
      "source": [
        "El programa ahora detectra otra excepción: no podemos crear una secuencia de strs considerando un float"
      ]
    },
    {
      "cell_type": "code",
      "metadata": {
        "colab": {
          "base_uri": "https://localhost:8080/"
        },
        "id": "qWOeOYAefHSK",
        "outputId": "450312fd-5a64-423f-b670-2c7e8010bf91"
      },
      "source": [
        "def diamond(rows):\n",
        "    total_diamond = \"\"\n",
        "    # División entera\n",
        "    mid_row = rows // 2\n",
        "    for i in range(rows):\n",
        "        if i <= mid_row:\n",
        "            nelemen = i + 1\n",
        "        else:\n",
        "            row_factor = (i - mid_row) \n",
        "            nelemen = rows - row_factor\n",
        "        row = (\"*\" * nelemen).center(rows, \" \")\n",
        "        print(row)\n",
        "        total_diamond += row + \"\\n\"\n",
        "        \n",
        "diamond(9)"
      ],
      "execution_count": null,
      "outputs": [
        {
          "output_type": "stream",
          "name": "stdout",
          "text": [
            "    *    \n",
            "    **   \n",
            "   ***   \n",
            "   ****  \n",
            "  *****  \n",
            " ********\n",
            " ******* \n",
            "  ****** \n",
            "  *****  \n"
          ]
        }
      ]
    },
    {
      "cell_type": "code",
      "metadata": {
        "colab": {
          "base_uri": "https://localhost:8080/"
        },
        "id": "pi9fBxqzfNnJ",
        "outputId": "e417a298-e66d-4e43-9dfe-698291f92b1d"
      },
      "source": [
        "def diamond(rows):\n",
        "    total_diamond = \"\"\n",
        "    # División entera\n",
        "    mid_row = rows // 2\n",
        "    for i in range(rows):\n",
        "        if i <= mid_row:\n",
        "            # ordenar los elementos\n",
        "            nelemen = i * 2 + 1\n",
        "        else:\n",
        "            # Consideramos el número de elementos \n",
        "            # por abajo de la segunda línea\n",
        "            row_factor = (i - mid_row) * 2 \n",
        "            nelemen = rows - row_factor\n",
        "        row = (\"*\" * nelemen).center(rows, \" \")\n",
        "        print(row)\n",
        "        total_diamond += row + \"\\n\"\n",
        "        \n",
        "diamond(9)"
      ],
      "execution_count": null,
      "outputs": [
        {
          "output_type": "stream",
          "name": "stdout",
          "text": [
            "    *    \n",
            "   ***   \n",
            "  *****  \n",
            " ******* \n",
            "*********\n",
            " ******* \n",
            "  *****  \n",
            "   ***   \n",
            "    *    \n"
          ]
        }
      ]
    },
    {
      "cell_type": "markdown",
      "metadata": {
        "id": "fHJiN_KYfSik"
      },
      "source": [
        "## Trabajando con excepciones"
      ]
    },
    {
      "cell_type": "markdown",
      "metadata": {
        "id": "6Q5bbYxQfeas"
      },
      "source": [
        "### Retener Excepciones\n",
        "\n",
        "El keyword ***try*** nos permite continuar la ejecución de un programa, aún existiendo excepciones dentro de un bloque de código en especifico."
      ]
    },
    {
      "cell_type": "code",
      "metadata": {
        "id": "lihoBXEKfl9L",
        "colab": {
          "base_uri": "https://localhost:8080/"
        },
        "outputId": "bef59bcf-e86f-4ed5-c684-cdade302f393"
      },
      "source": [
        "# Pide una serie de números tal que su suma sea mayor o igual a 100\n",
        "# guarda cada elemento de la suma final en una lista de números. \n",
        "# Ignora todo elemento que no se pueda convertir a un int (el cuál\n",
        "# se vería reflejado en un 'ValueError')\n",
        "\n",
        "numbers = []\n",
        "while True:\n",
        "    try:\n",
        "        x = int(input(\"ingresa un número: \"))\n",
        "        numbers.append(x)\n",
        "        if sum(numbers) >= 100:\n",
        "            break\n",
        "    except ValueError:\n",
        "        print(\"El valor asignado no es un número\")"
      ],
      "execution_count": null,
      "outputs": [
        {
          "name": "stdout",
          "output_type": "stream",
          "text": [
            "ingresa un número: a\n",
            "El valor asignado no es un número\n",
            "ingresa un número: 1000\n"
          ]
        }
      ]
    },
    {
      "cell_type": "markdown",
      "metadata": {
        "id": "UIHyLGF6LBHf"
      },
      "source": [
        "El ***try*** keyword funciona de la siguiente manera:\n",
        "\n",
        "Las líneas dentro del try se ejecutan\n",
        "Si no ocurre ninguna excepción, las líneas del except se omiten y el programa continua. Si ocurre alguna excepción dentro del try, se omite el resto de las líneas del try y se evalua el except, el cuál se ejectuta si el tipo de excepción es la especificada después del except.\n",
        "\n",
        "Si la excepción del programa no es la especificada después del except, el programa se detiene.\n",
        "\n"
      ]
    },
    {
      "cell_type": "markdown",
      "metadata": {
        "id": "upLKxqAnLZfK"
      },
      "source": [
        "**IMPORTANTE** - Una nota sobre try. Aunque es posible trabajar con try-except sin necesidad de especificar el tipo de excepción, esto no es recomendable dada la generalidad de excepciones que podría ocasionar"
      ]
    },
    {
      "cell_type": "markdown",
      "metadata": {
        "id": "Ffv-aovoLbX2"
      },
      "source": [
        "**Ejemplo**\n",
        "\n",
        "Supongamos queremos escribir un programa que lea una serie de números y regrese la suma de todos los elementos del archivo. En caso de encontrarse un elemento el cuál no sea posible convertir a un flotante, el programa regresará como suma total el valor 0.\n",
        "\n",
        "Hasta ahora se tiene el siguiente programa:"
      ]
    },
    {
      "cell_type": "code",
      "metadata": {
        "id": "D0DPDFD1Lmja"
      },
      "source": [
        "def sum_numbers(path):\n",
        "    try:\n",
        "        with open(path) as f:\n",
        "            total_sum = 0\n",
        "            numbers = f.read().split()\n",
        "            for n in numbers:\n",
        "                total_sum += float(n)\n",
        "    except:\n",
        "        print(\"Números no son todos ints o floats\")\n",
        "        total_sum = 0\n",
        "    \n",
        "    return total_sum"
      ],
      "execution_count": null,
      "outputs": []
    },
    {
      "cell_type": "code",
      "metadata": {
        "id": "KnNUYhjEMAoA"
      },
      "source": [
        "path0 = \"../files/lec02/numbers0.txt\""
      ],
      "execution_count": null,
      "outputs": []
    },
    {
      "cell_type": "code",
      "metadata": {
        "id": "NpkPekoTMDxm"
      },
      "source": [
        "sum_numbers(path0)"
      ],
      "execution_count": null,
      "outputs": []
    },
    {
      "cell_type": "markdown",
      "metadata": {
        "id": "faOM_gj5MRuX"
      },
      "source": [
        "Es importante considerar que ***try-except*** se debe ocupar, preferentemente, únicamente sobre el bloque de código que estemos interesados en probar si existe o no una excepción.\n",
        "\n",
        "Para casos en los que deseemos seguir con la lógica del programa únicamente si el bloque de código dentro de ***try*** es verdadero, hacemos uso de ***else***"
      ]
    },
    {
      "cell_type": "code",
      "metadata": {
        "id": "mi0QfO6YMecp"
      },
      "source": [
        "def normed_squared(a, b):\n",
        "    \"\"\"\n",
        "    Suma el cuadrado de dos números\n",
        "    \"\"\"\n",
        "    try:\n",
        "        # Dados dos elementos \"a\", \"b\";\n",
        "        # tratamos de elevar al cuadrado cada término antes de seguir\n",
        "        a, b = a ** 2, b ** 2\n",
        "    except TypeError:\n",
        "        sum_ab2 = \"No podemos sumar\"\n",
        "    else:\n",
        "        # Sumamos a ** 2 + b ** 2 únicamente\n",
        "        # si `try` se corrió exitosamente\n",
        "        sum_ab2 = a + b\n",
        "\n",
        "    return sum_ab2"
      ],
      "execution_count": null,
      "outputs": []
    },
    {
      "cell_type": "code",
      "metadata": {
        "id": "pq6pln-DMisp",
        "colab": {
          "base_uri": "https://localhost:8080/",
          "height": 35
        },
        "outputId": "0d1050e1-10f7-4776-e589-c562901999f7"
      },
      "source": [
        "normed_squared(2, \"a\")"
      ],
      "execution_count": null,
      "outputs": [
        {
          "output_type": "execute_result",
          "data": {
            "application/vnd.google.colaboratory.intrinsic+json": {
              "type": "string"
            },
            "text/plain": [
              "'No podemos sumar'"
            ]
          },
          "metadata": {},
          "execution_count": 27
        }
      ]
    },
    {
      "cell_type": "markdown",
      "metadata": {
        "id": "nCqGUbK9MlT8"
      },
      "source": [
        "En ocasiones es deseable tener un bloque de código dentro de una función que siempre se cumpla, independiente de si ***try*** o except se ejecutó. En estos casos podemos hacer uso del keyword ***finally***, el cuál siempre ejecuta código dentro de su bloque independientemente de la ejecución o excepción del programa:"
      ]
    },
    {
      "cell_type": "code",
      "metadata": {
        "id": "j55x410EMwkf"
      },
      "source": [
        "def sum_two(a, b):\n",
        "    try:\n",
        "        return a + b\n",
        "    except TypeError:\n",
        "        return \"No podemos sumar\"\n",
        "    finally:\n",
        "        print(\"Goodbye!\")"
      ],
      "execution_count": null,
      "outputs": []
    },
    {
      "cell_type": "code",
      "metadata": {
        "id": "J-O87ugBMzEt"
      },
      "source": [
        "v = sum_two(1, 2)\n",
        "print(v)"
      ],
      "execution_count": null,
      "outputs": []
    },
    {
      "cell_type": "code",
      "metadata": {
        "id": "rcVS4LJoM1Ye"
      },
      "source": [
        "v = sum_two(1, \"a\")\n",
        "print(v)"
      ],
      "execution_count": null,
      "outputs": []
    },
    {
      "cell_type": "markdown",
      "metadata": {
        "id": "QHAe7B15M5Gg"
      },
      "source": [
        "### Levantando Excepciones\n",
        "\n",
        "El keyword raise nos permite levantar excepciones en partes específicas de un programa. Esto es deseable en todas aquellas ocasiones en las cuales un programa no sea conforme a las partes usadas (funciones, operaciones, statements, etc.), pero no a nuestro programa.\n",
        "\n",
        "Consideremos la función rate_converter definida a continuación"
      ]
    },
    {
      "cell_type": "code",
      "metadata": {
        "id": "-g5Du7zgM-wO"
      },
      "source": [
        "def rate_converter(rate, yearly_payoff, base):\n",
        "    \"\"\"\n",
        "    Convierte una tasa nominal pagadera 'yearly_payoff'\n",
        "    al año, por una tasa anual efectiva\n",
        "\n",
        "    Parameters\n",
        "    ----------\n",
        "    rate: Una tasa convertir\n",
        "    yearly_payoff: el número de veces en el que se reinvierte la tasa nominal\n",
        "    base: str (\"nominal\" ^ \"effective\")\n",
        "        La base de la tasa a convertir\n",
        "\n",
        "    Returns\n",
        "    -------\n",
        "    Una tasa convertida\n",
        "    \"\"\"\n",
        "    if base == \"nominal\":\n",
        "        return (1 + rate) ** yearly_payoff - 1\n",
        "    elif base == \"effective\":\n",
        "        return yearly_payoff * ((1 + rate) ** (1 / yearly_payoff) - 1)"
      ],
      "execution_count": null,
      "outputs": []
    },
    {
      "cell_type": "markdown",
      "metadata": {
        "id": "RRQQ-_bSNEsn"
      },
      "source": [
        "rate_converter nos permite asignar cualquier tipo de base a la función. En cuyo caso, si base no es ninguno de \"nominal\" o \"effective\", el problema arroja None."
      ]
    },
    {
      "cell_type": "code",
      "metadata": {
        "id": "050gD6gKNFm8",
        "colab": {
          "base_uri": "https://localhost:8080/"
        },
        "outputId": "2b1383a1-7537-4166-c600-444c10a076c4"
      },
      "source": [
        "r2 = rate_converter(0.05, 12, \"continuous\")\n",
        "print(r2)"
      ],
      "execution_count": null,
      "outputs": [
        {
          "output_type": "stream",
          "name": "stdout",
          "text": [
            "None\n"
          ]
        }
      ]
    },
    {
      "cell_type": "markdown",
      "metadata": {
        "id": "j4L0S9MJNOW0"
      },
      "source": [
        "En estos casos,es deseable notificar al usuario de una excepción (en el ejemplo anterior, el hecho que base == \"continuous\" no está definido). El raise keyword nos ayuda a levantar excepciones notificando al usuario de un error en nuestro programa."
      ]
    },
    {
      "cell_type": "code",
      "metadata": {
        "id": "Rbr_0S6GNeBG"
      },
      "source": [
        "raise ExceptionType(\"optional message\")"
      ],
      "execution_count": null,
      "outputs": []
    },
    {
      "cell_type": "markdown",
      "metadata": {
        "id": "m2aEGCv6NiT5"
      },
      "source": [
        "donde:\n",
        "\n",
        "ExceptionType es una excepción.\n",
        "\n",
        "Para modificar nuestro programa consideraremos un ValueError que le informe al usuario que el base asignado no se encuentra contemplado dentro de la función."
      ]
    },
    {
      "cell_type": "code",
      "metadata": {
        "id": "e7ptAczGNnfJ"
      },
      "source": [
        "def rate_converter(rate, yearly_payoff, base):\n",
        "    \"\"\"\n",
        "    Convierte una tasa nominal pagadera 'yearly_payoff'\n",
        "    al año, por una tasa anual efectiva\n",
        "\n",
        "    Parameters\n",
        "    ----------\n",
        "    rate: Una tasa convertir\n",
        "    yearly_payoff: el número de veces en el que se reinvierte la tasa nominal\n",
        "    base: str (\"nominal\" ^ \"effective\")\n",
        "        La base \n",
        "\n",
        "    Returns\n",
        "    -------\n",
        "    Una tasa convertida\n",
        "    \"\"\"\n",
        "    if base == \"nominal\":\n",
        "        return (1 + rate) ** yearly_payoff - 1\n",
        "    elif base == \"effective\":\n",
        "        return yearly_payoff * ((1 + rate) ** (1 / yearly_payoff) - 1)\n",
        "    else:\n",
        "        msg = f\"La base '{base}' no está definida\"\n",
        "        raise ValueError(msg)"
      ],
      "execution_count": null,
      "outputs": []
    },
    {
      "cell_type": "markdown",
      "metadata": {
        "id": "2rdJJCjwNqAG"
      },
      "source": [
        "Corriendo el caso anterior resulta ahora en un error"
      ]
    },
    {
      "cell_type": "code",
      "metadata": {
        "id": "zNoSkHjiNqie"
      },
      "source": [
        "r2 = rate_converter(0.05, 12, \"continuous\")\n",
        "print(r2)"
      ],
      "execution_count": null,
      "outputs": []
    },
    {
      "cell_type": "markdown",
      "metadata": {
        "id": "H7PS1MblNy2H"
      },
      "source": [
        "## Ejercicios\n",
        "\n",
        "Considera el siguiente programa e indica si el programa contiene algún error. De ser así, ¿Qué clase de errores contiene y cómo lo arreglarías?"
      ]
    },
    {
      "cell_type": "code",
      "metadata": {
        "id": "aHQd-JeaOHkU"
      },
      "source": [
        "def sum_pow(n, p=2):\n",
        "     \"\"\"\n",
        "     Función que suma todos los\n",
        "     valores del 1 al n elevados a\n",
        "     una potencia 'p'\n",
        "     \"\"\"\n",
        "     total_sum = 0\n",
        "     for i in range(1: n + 1):\n",
        "     total_sum += i ** 2\n",
        "     return total_sum"
      ],
      "execution_count": null,
      "outputs": []
    },
    {
      "cell_type": "markdown",
      "metadata": {
        "id": "ZTxtFjKPOP8Z"
      },
      "source": [
        "## Referencias\n",
        "\n",
        "\n",
        "\n",
        "\n",
        "1.   https://docs.python.org/3/tutorial/errors.html\n",
        "2.   https://www.inf.unibz.it/~calvanese/teaching/05-06-ip/lecture-notes/uni10/node2.html\n",
        "\n",
        "\n",
        "\n"
      ]
    }
  ]
}