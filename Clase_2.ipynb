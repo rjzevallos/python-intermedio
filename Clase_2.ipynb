{
  "nbformat": 4,
  "nbformat_minor": 0,
  "metadata": {
    "colab": {
      "name": "Clase_2.ipynb",
      "provenance": [],
      "toc_visible": true,
      "authorship_tag": "ABX9TyO+DAAD7mVbiichVriFG1ND",
      "include_colab_link": true
    },
    "kernelspec": {
      "name": "python3",
      "display_name": "Python 3"
    },
    "language_info": {
      "name": "python"
    }
  },
  "cells": [
    {
      "cell_type": "markdown",
      "metadata": {
        "id": "view-in-github",
        "colab_type": "text"
      },
      "source": [
        "<a href=\"https://colab.research.google.com/github/rjzevallos/python-intermedio/blob/main/Clase_2.ipynb\" target=\"_parent\"><img src=\"https://colab.research.google.com/assets/colab-badge.svg\" alt=\"Open In Colab\"/></a>"
      ]
    },
    {
      "cell_type": "markdown",
      "metadata": {
        "id": "Cb8WWzmDQlvF"
      },
      "source": [
        "# Debugging, Profiling and IPython Magics"
      ]
    },
    {
      "cell_type": "markdown",
      "metadata": {
        "id": "FzzpZj81Qpnp"
      },
      "source": [
        "A medida que vamos trabajando con código cada vez más complejo, la probabilidad de erroes lógicos y cuellos de botella en el procesamietno de nuestros datos se incrementa de igual manera.\n",
        "\n",
        "Python cuenta con varias herramientas para combatir estos tipos de problemas."
      ]
    },
    {
      "cell_type": "markdown",
      "metadata": {
        "id": "lB-5F8MFQw5k"
      },
      "source": [
        "## IPython Magics"
      ]
    },
    {
      "cell_type": "markdown",
      "metadata": {
        "id": "nthwnqFqQ5Gc"
      },
      "source": [
        "Jupyter considera cualquier celda que empiece con % o %% como una llamada hacia un magic command. Un magic command nos permite controlar características del sistema y de IPython (dentro de Jupyter).\n",
        "\n",
        "*   Los magics que llamemos con un solo % corresponden a magics que llamamos en una única línea.\n",
        "*   Los magics que llamemos con dos %% corresponden a magics que llamamos en más de una línea.\n"
      ]
    },
    {
      "cell_type": "markdown",
      "metadata": {
        "id": "EfZPeU1uRFAI"
      },
      "source": [
        "### Ejemplos"
      ]
    },
    {
      "cell_type": "code",
      "metadata": {
        "id": "Q7JHvoERRICC"
      },
      "source": [
        "# Print Current Directory (imprime la ruta hacia el directorio actual)\n",
        "%pwd"
      ],
      "execution_count": null,
      "outputs": []
    },
    {
      "cell_type": "code",
      "metadata": {
        "id": "4xWMLlsYRLDb"
      },
      "source": [
        "# Muestra todos los archivos dentro del directorio actual\n",
        "%ls"
      ],
      "execution_count": null,
      "outputs": []
    },
    {
      "cell_type": "code",
      "metadata": {
        "id": "n1XSecwRROok"
      },
      "source": [
        "# Nos movemos una carpeta atrás\n",
        "%cd .."
      ],
      "execution_count": null,
      "outputs": []
    },
    {
      "cell_type": "code",
      "metadata": {
        "id": "hVZaVr-vWndF"
      },
      "source": [
        "a = 3\n",
        "var1 = \"ML\"\n",
        "var2 = {\"SVM\", \"LSR\", \"BR\"}"
      ],
      "execution_count": 1,
      "outputs": []
    },
    {
      "cell_type": "code",
      "metadata": {
        "colab": {
          "base_uri": "https://localhost:8080/"
        },
        "id": "sYJBvFhWWtVJ",
        "outputId": "405285d7-cff4-4677-d7cc-c48d51af47de"
      },
      "source": [
        "# Variables que hemos definido dentro de nuestro espacio de trabajo (workspace)\n",
        "%whos"
      ],
      "execution_count": 2,
      "outputs": [
        {
          "output_type": "stream",
          "name": "stdout",
          "text": [
            "Variable   Type    Data/Info\n",
            "----------------------------\n",
            "a          int     3\n",
            "var1       str     ML\n",
            "var2       set     {'LSR', 'BR', 'SVM'}\n"
          ]
        }
      ]
    },
    {
      "cell_type": "code",
      "metadata": {
        "colab": {
          "base_uri": "https://localhost:8080/",
          "height": 35
        },
        "id": "rvTw5VmcWv7M",
        "outputId": "f11dc07c-b7e3-4c9b-e096-e944eeba3111"
      },
      "source": [
        "# %load ../files/lec03/function.py\n",
        "def function():\n",
        "    return \"Soy una función dentro de archivo\"\n",
        "\n",
        "function()"
      ],
      "execution_count": 3,
      "outputs": [
        {
          "output_type": "execute_result",
          "data": {
            "application/vnd.google.colaboratory.intrinsic+json": {
              "type": "string"
            },
            "text/plain": [
              "'Soy una función dentro de archivo'"
            ]
          },
          "metadata": {},
          "execution_count": 3
        }
      ]
    },
    {
      "cell_type": "code",
      "metadata": {
        "id": "ppgb0YQmW2HC"
      },
      "source": [
        "%%time\n",
        "N = 10_000_000\n",
        "sum(i**2 for i in range(N)) / N"
      ],
      "execution_count": null,
      "outputs": []
    },
    {
      "cell_type": "code",
      "metadata": {
        "id": "HiStdH3iXAiW"
      },
      "source": [
        "%%writefile function.py\n",
        "def greeting(name):\n",
        "    return f\"Hola, {name}!\""
      ],
      "execution_count": null,
      "outputs": []
    },
    {
      "cell_type": "markdown",
      "metadata": {
        "id": "H_IlnCT3XNOt"
      },
      "source": [
        "## pdb / ipdb"
      ]
    },
    {
      "cell_type": "markdown",
      "metadata": {
        "id": "UcGUMi_lXPDp"
      },
      "source": [
        "El módulo pdb (Python Debugger) define un debugger interactivo para programas en python. Este tipo de herramientas nos ayudan a analizar nuestro código y poder detectar más facilmente los errores de nuestros programas.\n",
        "\n",
        "*   ipdb es el pdb de IPython\n",
        "\n",
        "\n"
      ]
    },
    {
      "cell_type": "code",
      "metadata": {
        "colab": {
          "base_uri": "https://localhost:8080/",
          "height": 844
        },
        "id": "5Vxmsq6GXZJ5",
        "outputId": "146c5149-1202-4eb3-aee2-3d0e08d07ff4"
      },
      "source": [
        "!pip install ipdb\n",
        "import ipdb"
      ],
      "execution_count": 6,
      "outputs": [
        {
          "output_type": "stream",
          "name": "stdout",
          "text": [
            "Collecting ipdb\n",
            "  Downloading ipdb-0.13.9.tar.gz (16 kB)\n",
            "Requirement already satisfied: setuptools in /usr/local/lib/python3.7/dist-packages (from ipdb) (57.4.0)\n",
            "Collecting ipython>=7.17.0\n",
            "  Downloading ipython-7.28.0-py3-none-any.whl (788 kB)\n",
            "\u001b[K     |████████████████████████████████| 788 kB 36.2 MB/s \n",
            "\u001b[?25hRequirement already satisfied: toml>=0.10.2 in /usr/local/lib/python3.7/dist-packages (from ipdb) (0.10.2)\n",
            "Requirement already satisfied: decorator in /usr/local/lib/python3.7/dist-packages (from ipdb) (4.4.2)\n",
            "Requirement already satisfied: pickleshare in /usr/local/lib/python3.7/dist-packages (from ipython>=7.17.0->ipdb) (0.7.5)\n",
            "Requirement already satisfied: jedi>=0.16 in /usr/local/lib/python3.7/dist-packages (from ipython>=7.17.0->ipdb) (0.18.0)\n",
            "Collecting prompt-toolkit!=3.0.0,!=3.0.1,<3.1.0,>=2.0.0\n",
            "  Downloading prompt_toolkit-3.0.20-py3-none-any.whl (370 kB)\n",
            "\u001b[K     |████████████████████████████████| 370 kB 71.7 MB/s \n",
            "\u001b[?25hRequirement already satisfied: backcall in /usr/local/lib/python3.7/dist-packages (from ipython>=7.17.0->ipdb) (0.2.0)\n",
            "Requirement already satisfied: matplotlib-inline in /usr/local/lib/python3.7/dist-packages (from ipython>=7.17.0->ipdb) (0.1.3)\n",
            "Requirement already satisfied: pygments in /usr/local/lib/python3.7/dist-packages (from ipython>=7.17.0->ipdb) (2.6.1)\n",
            "Requirement already satisfied: pexpect>4.3 in /usr/local/lib/python3.7/dist-packages (from ipython>=7.17.0->ipdb) (4.8.0)\n",
            "Requirement already satisfied: traitlets>=4.2 in /usr/local/lib/python3.7/dist-packages (from ipython>=7.17.0->ipdb) (5.1.0)\n",
            "Requirement already satisfied: parso<0.9.0,>=0.8.0 in /usr/local/lib/python3.7/dist-packages (from jedi>=0.16->ipython>=7.17.0->ipdb) (0.8.2)\n",
            "Requirement already satisfied: ptyprocess>=0.5 in /usr/local/lib/python3.7/dist-packages (from pexpect>4.3->ipython>=7.17.0->ipdb) (0.7.0)\n",
            "Requirement already satisfied: wcwidth in /usr/local/lib/python3.7/dist-packages (from prompt-toolkit!=3.0.0,!=3.0.1,<3.1.0,>=2.0.0->ipython>=7.17.0->ipdb) (0.2.5)\n",
            "Building wheels for collected packages: ipdb\n",
            "  Building wheel for ipdb (setup.py) ... \u001b[?25l\u001b[?25hdone\n",
            "  Created wheel for ipdb: filename=ipdb-0.13.9-py3-none-any.whl size=11648 sha256=4d72093503991c5c4343b2c4bfc7d91b3f07b697bcf3da18f53c418ff8cda819\n",
            "  Stored in directory: /root/.cache/pip/wheels/65/cd/cc/aaf92acae337a28fdd2aa4d632196a59745c8c39f76eaeed01\n",
            "Successfully built ipdb\n",
            "Installing collected packages: prompt-toolkit, ipython, ipdb\n",
            "  Attempting uninstall: prompt-toolkit\n",
            "    Found existing installation: prompt-toolkit 1.0.18\n",
            "    Uninstalling prompt-toolkit-1.0.18:\n",
            "      Successfully uninstalled prompt-toolkit-1.0.18\n",
            "  Attempting uninstall: ipython\n",
            "    Found existing installation: ipython 5.5.0\n",
            "    Uninstalling ipython-5.5.0:\n",
            "      Successfully uninstalled ipython-5.5.0\n",
            "\u001b[31mERROR: pip's dependency resolver does not currently take into account all the packages that are installed. This behaviour is the source of the following dependency conflicts.\n",
            "jupyter-console 5.2.0 requires prompt-toolkit<2.0.0,>=1.0.0, but you have prompt-toolkit 3.0.20 which is incompatible.\n",
            "google-colab 1.0.0 requires ipython~=5.5.0, but you have ipython 7.28.0 which is incompatible.\u001b[0m\n",
            "Successfully installed ipdb-0.13.9 ipython-7.28.0 prompt-toolkit-3.0.20\n"
          ]
        },
        {
          "output_type": "display_data",
          "data": {
            "application/vnd.colab-display-data+json": {
              "pip_warning": {
                "packages": [
                  "IPython",
                  "prompt_toolkit"
                ]
              }
            }
          },
          "metadata": {}
        }
      ]
    },
    {
      "cell_type": "markdown",
      "metadata": {
        "id": "7j6QWxiqXZxD"
      },
      "source": [
        "Una vez importado, hacemos uso de pdb dentro de un programa con pdb.set_trace(). Esta función pausa el programa en la línea deseada e inicia el debugger.\n",
        "\n",
        "Comandos de navegación PDB (fuente)\n",
        "\n",
        "\n",
        "*   (l)ist: muestra 11 líneas alrededor de la línea actual\n",
        "*   (w)here: muestra el archivo y la línea actual del programa\n",
        "*   (n)ext: ejecuta la línea actual\n",
        "*   (s)tep: ingresa a la función dentro de la línea actual\n",
        "*   (r)eturn: (dentro de una función), corre el progama hasta encontrar el return de la función actual\n",
        "*   (c)ontinue: corre el programa hasta encontrar un trace o breakpoint\n"
      ]
    },
    {
      "cell_type": "markdown",
      "metadata": {
        "id": "QotPz7UJYh1n"
      },
      "source": [
        "### Ejemplos"
      ]
    },
    {
      "cell_type": "code",
      "metadata": {
        "colab": {
          "base_uri": "https://localhost:8080/"
        },
        "id": "EuZizhaaXxQ9",
        "outputId": "ef9d99e1-2eb9-40a5-b8b8-2c884dec5e25"
      },
      "source": [
        "values = []\n",
        "for i in range(10):\n",
        "    if i % 2 == 0:\n",
        "        ipdb.set_trace() # <--- Selección de un \"breakpoint\"\n",
        "        values.append(i ** 2)"
      ],
      "execution_count": null,
      "outputs": [
        {
          "output_type": "stream",
          "name": "stderr",
          "text": [
            "\n",
            "PYDEV DEBUGGER WARNING:\n",
            "sys.settrace() should not be used when the debugger is being used.\n",
            "This may cause the debugger to stop working correctly.\n",
            "If this is needed, please check: \n",
            "http://pydev.blogspot.com/2007/06/why-cant-pydev-debugger-work-with.html\n",
            "to see how to restore the debug tracing back correctly.\n",
            "Call Location:\n",
            "  File \"/usr/lib/python3.7/bdb.py\", line 332, in set_trace\n",
            "    sys.settrace(self.trace_dispatch)\n",
            "\n"
          ]
        },
        {
          "output_type": "stream",
          "name": "stdout",
          "text": [
            "> \u001b[0;32m<ipython-input-7-545381b527ae>\u001b[0m(5)\u001b[0;36m<module>\u001b[0;34m()\u001b[0m\n",
            "\u001b[0;32m      3 \u001b[0;31m    \u001b[0;32mif\u001b[0m \u001b[0mi\u001b[0m \u001b[0;34m%\u001b[0m \u001b[0;36m2\u001b[0m \u001b[0;34m==\u001b[0m \u001b[0;36m0\u001b[0m\u001b[0;34m:\u001b[0m\u001b[0;34m\u001b[0m\u001b[0;34m\u001b[0m\u001b[0m\n",
            "\u001b[0m\u001b[0;32m      4 \u001b[0;31m        \u001b[0mipdb\u001b[0m\u001b[0;34m.\u001b[0m\u001b[0mset_trace\u001b[0m\u001b[0;34m(\u001b[0m\u001b[0;34m)\u001b[0m \u001b[0;31m# <--- Selección de un \"breakpoint\"\u001b[0m\u001b[0;34m\u001b[0m\u001b[0;34m\u001b[0m\u001b[0m\n",
            "\u001b[0m\u001b[0;32m----> 5 \u001b[0;31m        \u001b[0mvalues\u001b[0m\u001b[0;34m.\u001b[0m\u001b[0mappend\u001b[0m\u001b[0;34m(\u001b[0m\u001b[0mi\u001b[0m \u001b[0;34m**\u001b[0m \u001b[0;36m2\u001b[0m\u001b[0;34m)\u001b[0m\u001b[0;34m\u001b[0m\u001b[0;34m\u001b[0m\u001b[0m\n",
            "\u001b[0m\n",
            "ipdb> l\n",
            "\u001b[1;32m      1 \u001b[0m\u001b[0mvalues\u001b[0m \u001b[0;34m=\u001b[0m \u001b[0;34m[\u001b[0m\u001b[0;34m]\u001b[0m\u001b[0;34m\u001b[0m\u001b[0;34m\u001b[0m\u001b[0m\n",
            "\u001b[1;32m      2 \u001b[0m\u001b[0;32mfor\u001b[0m \u001b[0mi\u001b[0m \u001b[0;32min\u001b[0m \u001b[0mrange\u001b[0m\u001b[0;34m(\u001b[0m\u001b[0;36m10\u001b[0m\u001b[0;34m)\u001b[0m\u001b[0;34m:\u001b[0m\u001b[0;34m\u001b[0m\u001b[0;34m\u001b[0m\u001b[0m\n",
            "\u001b[1;32m      3 \u001b[0m    \u001b[0;32mif\u001b[0m \u001b[0mi\u001b[0m \u001b[0;34m%\u001b[0m \u001b[0;36m2\u001b[0m \u001b[0;34m==\u001b[0m \u001b[0;36m0\u001b[0m\u001b[0;34m:\u001b[0m\u001b[0;34m\u001b[0m\u001b[0;34m\u001b[0m\u001b[0m\n",
            "\u001b[1;32m      4 \u001b[0m        \u001b[0mipdb\u001b[0m\u001b[0;34m.\u001b[0m\u001b[0mset_trace\u001b[0m\u001b[0;34m(\u001b[0m\u001b[0;34m)\u001b[0m \u001b[0;31m# <--- Selección de un \"breakpoint\"\u001b[0m\u001b[0;34m\u001b[0m\u001b[0;34m\u001b[0m\u001b[0m\n",
            "\u001b[0;32m----> 5 \u001b[0;31m        \u001b[0mvalues\u001b[0m\u001b[0;34m.\u001b[0m\u001b[0mappend\u001b[0m\u001b[0;34m(\u001b[0m\u001b[0mi\u001b[0m \u001b[0;34m**\u001b[0m \u001b[0;36m2\u001b[0m\u001b[0;34m)\u001b[0m\u001b[0;34m\u001b[0m\u001b[0;34m\u001b[0m\u001b[0m\n",
            "\u001b[0m\n",
            "ipdb> w\n",
            "  \u001b[0;32m/usr/lib/python3.7/runpy.py\u001b[0m(193)\u001b[0;36m_run_module_as_main\u001b[0;34m()\u001b[0m\n",
            "\u001b[1;32m    192 \u001b[0m    return _run_code(code, main_globals, None,\n",
            "\u001b[0;32m--> 193 \u001b[0;31m                     \"__main__\", mod_spec)\n",
            "\u001b[0m\u001b[1;32m    194 \u001b[0m\u001b[0;34m\u001b[0m\u001b[0m\n",
            "\n",
            "  \u001b[0;32m/usr/lib/python3.7/runpy.py\u001b[0m(85)\u001b[0;36m_run_code\u001b[0;34m()\u001b[0m\n",
            "\u001b[1;32m     84 \u001b[0m                       __spec__ = mod_spec)\n",
            "\u001b[0;32m---> 85 \u001b[0;31m    \u001b[0mexec\u001b[0m\u001b[0;34m(\u001b[0m\u001b[0mcode\u001b[0m\u001b[0;34m,\u001b[0m \u001b[0mrun_globals\u001b[0m\u001b[0;34m)\u001b[0m\u001b[0;34m\u001b[0m\u001b[0;34m\u001b[0m\u001b[0m\n",
            "\u001b[0m\u001b[1;32m     86 \u001b[0m    \u001b[0;32mreturn\u001b[0m \u001b[0mrun_globals\u001b[0m\u001b[0;34m\u001b[0m\u001b[0;34m\u001b[0m\u001b[0m\n",
            "\n",
            "  \u001b[0;32m/usr/local/lib/python3.7/dist-packages/ipykernel_launcher.py\u001b[0m(16)\u001b[0;36m<module>\u001b[0;34m()\u001b[0m\n",
            "\u001b[1;32m     14 \u001b[0m\u001b[0;34m\u001b[0m\u001b[0m\n",
            "\u001b[1;32m     15 \u001b[0m    \u001b[0;32mfrom\u001b[0m \u001b[0mipykernel\u001b[0m \u001b[0;32mimport\u001b[0m \u001b[0mkernelapp\u001b[0m \u001b[0;32mas\u001b[0m \u001b[0mapp\u001b[0m\u001b[0;34m\u001b[0m\u001b[0;34m\u001b[0m\u001b[0m\n",
            "\u001b[0;32m---> 16 \u001b[0;31m    \u001b[0mapp\u001b[0m\u001b[0;34m.\u001b[0m\u001b[0mlaunch_new_instance\u001b[0m\u001b[0;34m(\u001b[0m\u001b[0;34m)\u001b[0m\u001b[0;34m\u001b[0m\u001b[0;34m\u001b[0m\u001b[0m\n",
            "\u001b[0m\n",
            "  \u001b[0;32m/usr/local/lib/python3.7/dist-packages/traitlets/config/application.py\u001b[0m(846)\u001b[0;36mlaunch_instance\u001b[0;34m()\u001b[0m\n",
            "\u001b[1;32m    845 \u001b[0m        \u001b[0mapp\u001b[0m\u001b[0;34m.\u001b[0m\u001b[0minitialize\u001b[0m\u001b[0;34m(\u001b[0m\u001b[0margv\u001b[0m\u001b[0;34m)\u001b[0m\u001b[0;34m\u001b[0m\u001b[0;34m\u001b[0m\u001b[0m\n",
            "\u001b[0;32m--> 846 \u001b[0;31m        \u001b[0mapp\u001b[0m\u001b[0;34m.\u001b[0m\u001b[0mstart\u001b[0m\u001b[0;34m(\u001b[0m\u001b[0;34m)\u001b[0m\u001b[0;34m\u001b[0m\u001b[0;34m\u001b[0m\u001b[0m\n",
            "\u001b[0m\u001b[1;32m    847 \u001b[0m\u001b[0;34m\u001b[0m\u001b[0m\n",
            "\n",
            "  \u001b[0;32m/usr/local/lib/python3.7/dist-packages/ipykernel/kernelapp.py\u001b[0m(499)\u001b[0;36mstart\u001b[0;34m()\u001b[0m\n",
            "\u001b[1;32m    498 \u001b[0m        \u001b[0;32mtry\u001b[0m\u001b[0;34m:\u001b[0m\u001b[0;34m\u001b[0m\u001b[0;34m\u001b[0m\u001b[0m\n",
            "\u001b[0;32m--> 499 \u001b[0;31m            \u001b[0mself\u001b[0m\u001b[0;34m.\u001b[0m\u001b[0mio_loop\u001b[0m\u001b[0;34m.\u001b[0m\u001b[0mstart\u001b[0m\u001b[0;34m(\u001b[0m\u001b[0;34m)\u001b[0m\u001b[0;34m\u001b[0m\u001b[0;34m\u001b[0m\u001b[0m\n",
            "\u001b[0m\u001b[1;32m    500 \u001b[0m        \u001b[0;32mexcept\u001b[0m \u001b[0mKeyboardInterrupt\u001b[0m\u001b[0;34m:\u001b[0m\u001b[0;34m\u001b[0m\u001b[0;34m\u001b[0m\u001b[0m\n",
            "\n",
            "  \u001b[0;32m/usr/local/lib/python3.7/dist-packages/tornado/platform/asyncio.py\u001b[0m(132)\u001b[0;36mstart\u001b[0;34m()\u001b[0m\n",
            "\u001b[1;32m    131 \u001b[0m            \u001b[0masyncio\u001b[0m\u001b[0;34m.\u001b[0m\u001b[0mset_event_loop\u001b[0m\u001b[0;34m(\u001b[0m\u001b[0mself\u001b[0m\u001b[0;34m.\u001b[0m\u001b[0masyncio_loop\u001b[0m\u001b[0;34m)\u001b[0m\u001b[0;34m\u001b[0m\u001b[0;34m\u001b[0m\u001b[0m\n",
            "\u001b[0;32m--> 132 \u001b[0;31m            \u001b[0mself\u001b[0m\u001b[0;34m.\u001b[0m\u001b[0masyncio_loop\u001b[0m\u001b[0;34m.\u001b[0m\u001b[0mrun_forever\u001b[0m\u001b[0;34m(\u001b[0m\u001b[0;34m)\u001b[0m\u001b[0;34m\u001b[0m\u001b[0;34m\u001b[0m\u001b[0m\n",
            "\u001b[0m\u001b[1;32m    133 \u001b[0m        \u001b[0;32mfinally\u001b[0m\u001b[0;34m:\u001b[0m\u001b[0;34m\u001b[0m\u001b[0;34m\u001b[0m\u001b[0m\n",
            "\n",
            "  \u001b[0;32m/usr/lib/python3.7/asyncio/base_events.py\u001b[0m(541)\u001b[0;36mrun_forever\u001b[0;34m()\u001b[0m\n",
            "\u001b[1;32m    540 \u001b[0m            \u001b[0;32mwhile\u001b[0m \u001b[0;32mTrue\u001b[0m\u001b[0;34m:\u001b[0m\u001b[0;34m\u001b[0m\u001b[0;34m\u001b[0m\u001b[0m\n",
            "\u001b[0;32m--> 541 \u001b[0;31m                \u001b[0mself\u001b[0m\u001b[0;34m.\u001b[0m\u001b[0m_run_once\u001b[0m\u001b[0;34m(\u001b[0m\u001b[0;34m)\u001b[0m\u001b[0;34m\u001b[0m\u001b[0;34m\u001b[0m\u001b[0m\n",
            "\u001b[0m\u001b[1;32m    542 \u001b[0m                \u001b[0;32mif\u001b[0m \u001b[0mself\u001b[0m\u001b[0;34m.\u001b[0m\u001b[0m_stopping\u001b[0m\u001b[0;34m:\u001b[0m\u001b[0;34m\u001b[0m\u001b[0;34m\u001b[0m\u001b[0m\n",
            "\n",
            "  \u001b[0;32m/usr/lib/python3.7/asyncio/base_events.py\u001b[0m(1786)\u001b[0;36m_run_once\u001b[0;34m()\u001b[0m\n",
            "\u001b[1;32m   1785 \u001b[0m            \u001b[0;32melse\u001b[0m\u001b[0;34m:\u001b[0m\u001b[0;34m\u001b[0m\u001b[0;34m\u001b[0m\u001b[0m\n",
            "\u001b[0;32m-> 1786 \u001b[0;31m                \u001b[0mhandle\u001b[0m\u001b[0;34m.\u001b[0m\u001b[0m_run\u001b[0m\u001b[0;34m(\u001b[0m\u001b[0;34m)\u001b[0m\u001b[0;34m\u001b[0m\u001b[0;34m\u001b[0m\u001b[0m\n",
            "\u001b[0m\u001b[1;32m   1787 \u001b[0m        \u001b[0mhandle\u001b[0m \u001b[0;34m=\u001b[0m \u001b[0;32mNone\u001b[0m  \u001b[0;31m# Needed to break cycles when an exception occurs.\u001b[0m\u001b[0;34m\u001b[0m\u001b[0;34m\u001b[0m\u001b[0m\n",
            "\n",
            "  \u001b[0;32m/usr/lib/python3.7/asyncio/events.py\u001b[0m(88)\u001b[0;36m_run\u001b[0;34m()\u001b[0m\n",
            "\u001b[1;32m     87 \u001b[0m        \u001b[0;32mtry\u001b[0m\u001b[0;34m:\u001b[0m\u001b[0;34m\u001b[0m\u001b[0;34m\u001b[0m\u001b[0m\n",
            "\u001b[0;32m---> 88 \u001b[0;31m            \u001b[0mself\u001b[0m\u001b[0;34m.\u001b[0m\u001b[0m_context\u001b[0m\u001b[0;34m.\u001b[0m\u001b[0mrun\u001b[0m\u001b[0;34m(\u001b[0m\u001b[0mself\u001b[0m\u001b[0;34m.\u001b[0m\u001b[0m_callback\u001b[0m\u001b[0;34m,\u001b[0m \u001b[0;34m*\u001b[0m\u001b[0mself\u001b[0m\u001b[0;34m.\u001b[0m\u001b[0m_args\u001b[0m\u001b[0;34m)\u001b[0m\u001b[0;34m\u001b[0m\u001b[0;34m\u001b[0m\u001b[0m\n",
            "\u001b[0m\u001b[1;32m     89 \u001b[0m        \u001b[0;32mexcept\u001b[0m \u001b[0mException\u001b[0m \u001b[0;32mas\u001b[0m \u001b[0mexc\u001b[0m\u001b[0;34m:\u001b[0m\u001b[0;34m\u001b[0m\u001b[0;34m\u001b[0m\u001b[0m\n",
            "\n",
            "  \u001b[0;32m/usr/local/lib/python3.7/dist-packages/tornado/platform/asyncio.py\u001b[0m(122)\u001b[0;36m_handle_events\u001b[0;34m()\u001b[0m\n",
            "\u001b[1;32m    121 \u001b[0m        \u001b[0mfileobj\u001b[0m\u001b[0;34m,\u001b[0m \u001b[0mhandler_func\u001b[0m \u001b[0;34m=\u001b[0m \u001b[0mself\u001b[0m\u001b[0;34m.\u001b[0m\u001b[0mhandlers\u001b[0m\u001b[0;34m[\u001b[0m\u001b[0mfd\u001b[0m\u001b[0;34m]\u001b[0m\u001b[0;34m\u001b[0m\u001b[0;34m\u001b[0m\u001b[0m\n",
            "\u001b[0;32m--> 122 \u001b[0;31m        \u001b[0mhandler_func\u001b[0m\u001b[0;34m(\u001b[0m\u001b[0mfileobj\u001b[0m\u001b[0;34m,\u001b[0m \u001b[0mevents\u001b[0m\u001b[0;34m)\u001b[0m\u001b[0;34m\u001b[0m\u001b[0;34m\u001b[0m\u001b[0m\n",
            "\u001b[0m\u001b[1;32m    123 \u001b[0m\u001b[0;34m\u001b[0m\u001b[0m\n",
            "\n",
            "  \u001b[0;32m/usr/local/lib/python3.7/dist-packages/tornado/stack_context.py\u001b[0m(300)\u001b[0;36mnull_wrapper\u001b[0;34m()\u001b[0m\n",
            "\u001b[1;32m    299 \u001b[0m                \u001b[0m_state\u001b[0m\u001b[0;34m.\u001b[0m\u001b[0mcontexts\u001b[0m \u001b[0;34m=\u001b[0m \u001b[0mcap_contexts\u001b[0m\u001b[0;34m[\u001b[0m\u001b[0;36m0\u001b[0m\u001b[0;34m]\u001b[0m\u001b[0;34m\u001b[0m\u001b[0;34m\u001b[0m\u001b[0m\n",
            "\u001b[0;32m--> 300 \u001b[0;31m                \u001b[0;32mreturn\u001b[0m \u001b[0mfn\u001b[0m\u001b[0;34m(\u001b[0m\u001b[0;34m*\u001b[0m\u001b[0margs\u001b[0m\u001b[0;34m,\u001b[0m \u001b[0;34m**\u001b[0m\u001b[0mkwargs\u001b[0m\u001b[0;34m)\u001b[0m\u001b[0;34m\u001b[0m\u001b[0;34m\u001b[0m\u001b[0m\n",
            "\u001b[0m\u001b[1;32m    301 \u001b[0m            \u001b[0;32mfinally\u001b[0m\u001b[0;34m:\u001b[0m\u001b[0;34m\u001b[0m\u001b[0;34m\u001b[0m\u001b[0m\n",
            "\n",
            "  \u001b[0;32m/usr/local/lib/python3.7/dist-packages/zmq/eventloop/zmqstream.py\u001b[0m(452)\u001b[0;36m_handle_events\u001b[0;34m()\u001b[0m\n",
            "\u001b[1;32m    451 \u001b[0m            \u001b[0;32mif\u001b[0m \u001b[0mzmq_events\u001b[0m \u001b[0;34m&\u001b[0m \u001b[0mzmq\u001b[0m\u001b[0;34m.\u001b[0m\u001b[0mPOLLIN\u001b[0m \u001b[0;32mand\u001b[0m \u001b[0mself\u001b[0m\u001b[0;34m.\u001b[0m\u001b[0mreceiving\u001b[0m\u001b[0;34m(\u001b[0m\u001b[0;34m)\u001b[0m\u001b[0;34m:\u001b[0m\u001b[0;34m\u001b[0m\u001b[0;34m\u001b[0m\u001b[0m\n",
            "\u001b[0;32m--> 452 \u001b[0;31m                \u001b[0mself\u001b[0m\u001b[0;34m.\u001b[0m\u001b[0m_handle_recv\u001b[0m\u001b[0;34m(\u001b[0m\u001b[0;34m)\u001b[0m\u001b[0;34m\u001b[0m\u001b[0;34m\u001b[0m\u001b[0m\n",
            "\u001b[0m\u001b[1;32m    453 \u001b[0m                \u001b[0;32mif\u001b[0m \u001b[0;32mnot\u001b[0m \u001b[0mself\u001b[0m\u001b[0;34m.\u001b[0m\u001b[0msocket\u001b[0m\u001b[0;34m:\u001b[0m\u001b[0;34m\u001b[0m\u001b[0;34m\u001b[0m\u001b[0m\n",
            "\n",
            "  \u001b[0;32m/usr/local/lib/python3.7/dist-packages/zmq/eventloop/zmqstream.py\u001b[0m(481)\u001b[0;36m_handle_recv\u001b[0;34m()\u001b[0m\n",
            "\u001b[1;32m    480 \u001b[0m                \u001b[0mcallback\u001b[0m \u001b[0;34m=\u001b[0m \u001b[0mself\u001b[0m\u001b[0;34m.\u001b[0m\u001b[0m_recv_callback\u001b[0m\u001b[0;34m\u001b[0m\u001b[0;34m\u001b[0m\u001b[0m\n",
            "\u001b[0;32m--> 481 \u001b[0;31m                \u001b[0mself\u001b[0m\u001b[0;34m.\u001b[0m\u001b[0m_run_callback\u001b[0m\u001b[0;34m(\u001b[0m\u001b[0mcallback\u001b[0m\u001b[0;34m,\u001b[0m \u001b[0mmsg\u001b[0m\u001b[0;34m)\u001b[0m\u001b[0;34m\u001b[0m\u001b[0;34m\u001b[0m\u001b[0m\n",
            "\u001b[0m\u001b[1;32m    482 \u001b[0m\u001b[0;34m\u001b[0m\u001b[0m\n",
            "\n",
            "  \u001b[0;32m/usr/local/lib/python3.7/dist-packages/zmq/eventloop/zmqstream.py\u001b[0m(431)\u001b[0;36m_run_callback\u001b[0;34m()\u001b[0m\n",
            "\u001b[1;32m    430 \u001b[0m            \u001b[0;31m# inside our blanket exception handler rather than outside.\u001b[0m\u001b[0;34m\u001b[0m\u001b[0;34m\u001b[0m\u001b[0;34m\u001b[0m\u001b[0m\n",
            "\u001b[0;32m--> 431 \u001b[0;31m            \u001b[0mcallback\u001b[0m\u001b[0;34m(\u001b[0m\u001b[0;34m*\u001b[0m\u001b[0margs\u001b[0m\u001b[0;34m,\u001b[0m \u001b[0;34m**\u001b[0m\u001b[0mkwargs\u001b[0m\u001b[0;34m)\u001b[0m\u001b[0;34m\u001b[0m\u001b[0;34m\u001b[0m\u001b[0m\n",
            "\u001b[0m\u001b[1;32m    432 \u001b[0m        \u001b[0;32mexcept\u001b[0m \u001b[0mException\u001b[0m\u001b[0;34m:\u001b[0m\u001b[0;34m\u001b[0m\u001b[0;34m\u001b[0m\u001b[0m\n",
            "\n",
            "  \u001b[0;32m/usr/local/lib/python3.7/dist-packages/tornado/stack_context.py\u001b[0m(300)\u001b[0;36mnull_wrapper\u001b[0;34m()\u001b[0m\n",
            "\u001b[1;32m    299 \u001b[0m                \u001b[0m_state\u001b[0m\u001b[0;34m.\u001b[0m\u001b[0mcontexts\u001b[0m \u001b[0;34m=\u001b[0m \u001b[0mcap_contexts\u001b[0m\u001b[0;34m[\u001b[0m\u001b[0;36m0\u001b[0m\u001b[0;34m]\u001b[0m\u001b[0;34m\u001b[0m\u001b[0;34m\u001b[0m\u001b[0m\n",
            "\u001b[0;32m--> 300 \u001b[0;31m                \u001b[0;32mreturn\u001b[0m \u001b[0mfn\u001b[0m\u001b[0;34m(\u001b[0m\u001b[0;34m*\u001b[0m\u001b[0margs\u001b[0m\u001b[0;34m,\u001b[0m \u001b[0;34m**\u001b[0m\u001b[0mkwargs\u001b[0m\u001b[0;34m)\u001b[0m\u001b[0;34m\u001b[0m\u001b[0;34m\u001b[0m\u001b[0m\n",
            "\u001b[0m\u001b[1;32m    301 \u001b[0m            \u001b[0;32mfinally\u001b[0m\u001b[0;34m:\u001b[0m\u001b[0;34m\u001b[0m\u001b[0;34m\u001b[0m\u001b[0m\n",
            "\n",
            "  \u001b[0;32m/usr/local/lib/python3.7/dist-packages/ipykernel/kernelbase.py\u001b[0m(283)\u001b[0;36mdispatcher\u001b[0;34m()\u001b[0m\n",
            "\u001b[1;32m    282 \u001b[0m            \u001b[0;32mdef\u001b[0m \u001b[0mdispatcher\u001b[0m\u001b[0;34m(\u001b[0m\u001b[0mmsg\u001b[0m\u001b[0;34m)\u001b[0m\u001b[0;34m:\u001b[0m\u001b[0;34m\u001b[0m\u001b[0;34m\u001b[0m\u001b[0m\n",
            "\u001b[0;32m--> 283 \u001b[0;31m                \u001b[0;32mreturn\u001b[0m \u001b[0mself\u001b[0m\u001b[0;34m.\u001b[0m\u001b[0mdispatch_shell\u001b[0m\u001b[0;34m(\u001b[0m\u001b[0mstream\u001b[0m\u001b[0;34m,\u001b[0m \u001b[0mmsg\u001b[0m\u001b[0;34m)\u001b[0m\u001b[0;34m\u001b[0m\u001b[0;34m\u001b[0m\u001b[0m\n",
            "\u001b[0m\u001b[1;32m    284 \u001b[0m            \u001b[0;32mreturn\u001b[0m \u001b[0mdispatcher\u001b[0m\u001b[0;34m\u001b[0m\u001b[0;34m\u001b[0m\u001b[0m\n",
            "\n",
            "  \u001b[0;32m/usr/local/lib/python3.7/dist-packages/ipykernel/kernelbase.py\u001b[0m(233)\u001b[0;36mdispatch_shell\u001b[0;34m()\u001b[0m\n",
            "\u001b[1;32m    232 \u001b[0m            \u001b[0;32mtry\u001b[0m\u001b[0;34m:\u001b[0m\u001b[0;34m\u001b[0m\u001b[0;34m\u001b[0m\u001b[0m\n",
            "\u001b[0;32m--> 233 \u001b[0;31m                \u001b[0mhandler\u001b[0m\u001b[0;34m(\u001b[0m\u001b[0mstream\u001b[0m\u001b[0;34m,\u001b[0m \u001b[0midents\u001b[0m\u001b[0;34m,\u001b[0m \u001b[0mmsg\u001b[0m\u001b[0;34m)\u001b[0m\u001b[0;34m\u001b[0m\u001b[0;34m\u001b[0m\u001b[0m\n",
            "\u001b[0m\u001b[1;32m    234 \u001b[0m            \u001b[0;32mexcept\u001b[0m \u001b[0mException\u001b[0m\u001b[0;34m:\u001b[0m\u001b[0;34m\u001b[0m\u001b[0;34m\u001b[0m\u001b[0m\n",
            "\n",
            "  \u001b[0;32m/usr/local/lib/python3.7/dist-packages/ipykernel/kernelbase.py\u001b[0m(399)\u001b[0;36mexecute_request\u001b[0;34m()\u001b[0m\n",
            "\u001b[1;32m    398 \u001b[0m        reply_content = self.do_execute(code, silent, store_history,\n",
            "\u001b[0;32m--> 399 \u001b[0;31m                                        user_expressions, allow_stdin)\n",
            "\u001b[0m\u001b[1;32m    400 \u001b[0m\u001b[0;34m\u001b[0m\u001b[0m\n",
            "\n",
            "  \u001b[0;32m/usr/local/lib/python3.7/dist-packages/ipykernel/ipkernel.py\u001b[0m(208)\u001b[0;36mdo_execute\u001b[0;34m()\u001b[0m\n",
            "\u001b[1;32m    207 \u001b[0m        \u001b[0;32mtry\u001b[0m\u001b[0;34m:\u001b[0m\u001b[0;34m\u001b[0m\u001b[0;34m\u001b[0m\u001b[0m\n",
            "\u001b[0;32m--> 208 \u001b[0;31m            \u001b[0mres\u001b[0m \u001b[0;34m=\u001b[0m \u001b[0mshell\u001b[0m\u001b[0;34m.\u001b[0m\u001b[0mrun_cell\u001b[0m\u001b[0;34m(\u001b[0m\u001b[0mcode\u001b[0m\u001b[0;34m,\u001b[0m \u001b[0mstore_history\u001b[0m\u001b[0;34m=\u001b[0m\u001b[0mstore_history\u001b[0m\u001b[0;34m,\u001b[0m \u001b[0msilent\u001b[0m\u001b[0;34m=\u001b[0m\u001b[0msilent\u001b[0m\u001b[0;34m)\u001b[0m\u001b[0;34m\u001b[0m\u001b[0;34m\u001b[0m\u001b[0m\n",
            "\u001b[0m\u001b[1;32m    209 \u001b[0m        \u001b[0;32mfinally\u001b[0m\u001b[0;34m:\u001b[0m\u001b[0;34m\u001b[0m\u001b[0;34m\u001b[0m\u001b[0m\n",
            "\n",
            "  \u001b[0;32m/usr/local/lib/python3.7/dist-packages/ipykernel/zmqshell.py\u001b[0m(537)\u001b[0;36mrun_cell\u001b[0;34m()\u001b[0m\n",
            "\u001b[1;32m    536 \u001b[0m        \u001b[0mself\u001b[0m\u001b[0;34m.\u001b[0m\u001b[0m_last_traceback\u001b[0m \u001b[0;34m=\u001b[0m \u001b[0;32mNone\u001b[0m\u001b[0;34m\u001b[0m\u001b[0;34m\u001b[0m\u001b[0m\n",
            "\u001b[0;32m--> 537 \u001b[0;31m        \u001b[0;32mreturn\u001b[0m \u001b[0msuper\u001b[0m\u001b[0;34m(\u001b[0m\u001b[0mZMQInteractiveShell\u001b[0m\u001b[0;34m,\u001b[0m \u001b[0mself\u001b[0m\u001b[0;34m)\u001b[0m\u001b[0;34m.\u001b[0m\u001b[0mrun_cell\u001b[0m\u001b[0;34m(\u001b[0m\u001b[0;34m*\u001b[0m\u001b[0margs\u001b[0m\u001b[0;34m,\u001b[0m \u001b[0;34m**\u001b[0m\u001b[0mkwargs\u001b[0m\u001b[0;34m)\u001b[0m\u001b[0;34m\u001b[0m\u001b[0;34m\u001b[0m\u001b[0m\n",
            "\u001b[0m\u001b[1;32m    538 \u001b[0m\u001b[0;34m\u001b[0m\u001b[0m\n",
            "\n",
            "  \u001b[0;32m/usr/local/lib/python3.7/dist-packages/IPython/core/interactiveshell.py\u001b[0m(2718)\u001b[0;36mrun_cell\u001b[0;34m()\u001b[0m\n",
            "\u001b[1;32m   2717 \u001b[0m        \u001b[0;32mwith\u001b[0m \u001b[0mself\u001b[0m\u001b[0;34m.\u001b[0m\u001b[0mbuiltin_trap\u001b[0m\u001b[0;34m:\u001b[0m\u001b[0;34m\u001b[0m\u001b[0;34m\u001b[0m\u001b[0m\n",
            "\u001b[0;32m-> 2718 \u001b[0;31m            \u001b[0;32mreturn\u001b[0m \u001b[0meval\u001b[0m\u001b[0;34m(\u001b[0m\u001b[0mexpr\u001b[0m\u001b[0;34m,\u001b[0m \u001b[0mself\u001b[0m\u001b[0;34m.\u001b[0m\u001b[0muser_global_ns\u001b[0m\u001b[0;34m,\u001b[0m \u001b[0mself\u001b[0m\u001b[0;34m.\u001b[0m\u001b[0muser_ns\u001b[0m\u001b[0;34m)\u001b[0m\u001b[0;34m\u001b[0m\u001b[0;34m\u001b[0m\u001b[0m\n",
            "\u001b[0m\u001b[1;32m   2719 \u001b[0m\u001b[0;34m\u001b[0m\u001b[0m\n",
            "\n",
            "  \u001b[0;32m/usr/local/lib/python3.7/dist-packages/IPython/core/interactiveshell.py\u001b[0m(2822)\u001b[0;36mrun_ast_nodes\u001b[0;34m()\u001b[0m\n",
            "\u001b[1;32m   2821 \u001b[0m            \u001b[0;32mif\u001b[0m \u001b[0mfname\u001b[0m\u001b[0;34m.\u001b[0m\u001b[0mendswith\u001b[0m\u001b[0;34m(\u001b[0m\u001b[0;34m'.ipynb'\u001b[0m\u001b[0;34m)\u001b[0m\u001b[0;34m:\u001b[0m\u001b[0;34m\u001b[0m\u001b[0;34m\u001b[0m\u001b[0m\n",
            "\u001b[0;32m-> 2822 \u001b[0;31m                \u001b[0;32mfrom\u001b[0m \u001b[0mnbformat\u001b[0m \u001b[0;32mimport\u001b[0m \u001b[0mread\u001b[0m\u001b[0;34m\u001b[0m\u001b[0;34m\u001b[0m\u001b[0m\n",
            "\u001b[0m\u001b[1;32m   2823 \u001b[0m                \u001b[0mnb\u001b[0m \u001b[0;34m=\u001b[0m \u001b[0mread\u001b[0m\u001b[0;34m(\u001b[0m\u001b[0mfname\u001b[0m\u001b[0;34m,\u001b[0m \u001b[0mas_version\u001b[0m\u001b[0;34m=\u001b[0m\u001b[0;36m4\u001b[0m\u001b[0;34m)\u001b[0m\u001b[0;34m\u001b[0m\u001b[0;34m\u001b[0m\u001b[0m\n",
            "\n",
            "  \u001b[0;32m/usr/local/lib/python3.7/dist-packages/IPython/core/interactiveshell.py\u001b[0m(2882)\u001b[0;36mrun_code\u001b[0;34m()\u001b[0m\n",
            "\u001b[1;32m   2881 \u001b[0m          \u001b[0mThe\u001b[0m \u001b[0mcode\u001b[0m \u001b[0;34m(\u001b[0m\u001b[0mincluding\u001b[0m \u001b[0mIPython\u001b[0m \u001b[0mcode\u001b[0m \u001b[0msuch\u001b[0m \u001b[0;32mas\u001b[0m \u001b[0;34m%\u001b[0m\u001b[0mmagic\u001b[0m \u001b[0mfunctions\u001b[0m\u001b[0;34m)\u001b[0m \u001b[0mto\u001b[0m \u001b[0mrun\u001b[0m\u001b[0;34m.\u001b[0m\u001b[0;34m\u001b[0m\u001b[0;34m\u001b[0m\u001b[0m\n",
            "\u001b[0;32m-> 2882 \u001b[0;31m        \u001b[0mstore_history\u001b[0m \u001b[0;34m:\u001b[0m \u001b[0mbool\u001b[0m\u001b[0;34m\u001b[0m\u001b[0;34m\u001b[0m\u001b[0m\n",
            "\u001b[0m\u001b[1;32m   2883 \u001b[0m          \u001b[0mIf\u001b[0m \u001b[0;32mTrue\u001b[0m\u001b[0;34m,\u001b[0m \u001b[0mthe\u001b[0m \u001b[0mraw\u001b[0m \u001b[0;32mand\u001b[0m \u001b[0mtranslated\u001b[0m \u001b[0mcell\u001b[0m \u001b[0mwill\u001b[0m \u001b[0mbe\u001b[0m \u001b[0mstored\u001b[0m \u001b[0;32min\u001b[0m \u001b[0mIPython\u001b[0m\u001b[0;31m'\u001b[0m\u001b[0ms\u001b[0m\u001b[0;34m\u001b[0m\u001b[0;34m\u001b[0m\u001b[0m\n",
            "\n",
            "> \u001b[0;32m<ipython-input-7-545381b527ae>\u001b[0m(5)\u001b[0;36m<module>\u001b[0;34m()\u001b[0m\n",
            "\u001b[0;32m      3 \u001b[0;31m    \u001b[0;32mif\u001b[0m \u001b[0mi\u001b[0m \u001b[0;34m%\u001b[0m \u001b[0;36m2\u001b[0m \u001b[0;34m==\u001b[0m \u001b[0;36m0\u001b[0m\u001b[0;34m:\u001b[0m\u001b[0;34m\u001b[0m\u001b[0;34m\u001b[0m\u001b[0m\n",
            "\u001b[0m\u001b[0;32m      4 \u001b[0;31m        \u001b[0mipdb\u001b[0m\u001b[0;34m.\u001b[0m\u001b[0mset_trace\u001b[0m\u001b[0;34m(\u001b[0m\u001b[0;34m)\u001b[0m \u001b[0;31m# <--- Selección de un \"breakpoint\"\u001b[0m\u001b[0;34m\u001b[0m\u001b[0;34m\u001b[0m\u001b[0m\n",
            "\u001b[0m\u001b[0;32m----> 5 \u001b[0;31m        \u001b[0mvalues\u001b[0m\u001b[0;34m.\u001b[0m\u001b[0mappend\u001b[0m\u001b[0;34m(\u001b[0m\u001b[0mi\u001b[0m \u001b[0;34m**\u001b[0m \u001b[0;36m2\u001b[0m\u001b[0;34m)\u001b[0m\u001b[0;34m\u001b[0m\u001b[0;34m\u001b[0m\u001b[0m\n",
            "\u001b[0m\n",
            "ipdb> n\n",
            "> \u001b[0;32m<ipython-input-7-545381b527ae>\u001b[0m(2)\u001b[0;36m<module>\u001b[0;34m()\u001b[0m\n",
            "\u001b[0;32m      1 \u001b[0;31m\u001b[0mvalues\u001b[0m \u001b[0;34m=\u001b[0m \u001b[0;34m[\u001b[0m\u001b[0;34m]\u001b[0m\u001b[0;34m\u001b[0m\u001b[0;34m\u001b[0m\u001b[0m\n",
            "\u001b[0m\u001b[0;32m----> 2 \u001b[0;31m\u001b[0;32mfor\u001b[0m \u001b[0mi\u001b[0m \u001b[0;32min\u001b[0m \u001b[0mrange\u001b[0m\u001b[0;34m(\u001b[0m\u001b[0;36m10\u001b[0m\u001b[0;34m)\u001b[0m\u001b[0;34m:\u001b[0m\u001b[0;34m\u001b[0m\u001b[0;34m\u001b[0m\u001b[0m\n",
            "\u001b[0m\u001b[0;32m      3 \u001b[0;31m    \u001b[0;32mif\u001b[0m \u001b[0mi\u001b[0m \u001b[0;34m%\u001b[0m \u001b[0;36m2\u001b[0m \u001b[0;34m==\u001b[0m \u001b[0;36m0\u001b[0m\u001b[0;34m:\u001b[0m\u001b[0;34m\u001b[0m\u001b[0;34m\u001b[0m\u001b[0m\n",
            "\u001b[0m\n",
            "--KeyboardInterrupt--\n",
            "--KeyboardInterrupt--\n",
            "--KeyboardInterrupt--\n"
          ]
        }
      ]
    },
    {
      "cell_type": "markdown",
      "metadata": {
        "id": "GiCV_uahZOno"
      },
      "source": [
        "## Referencias\n",
        "1. https://ipython.readthedocs.io/en/stable/interactive/magics.html\n",
        "2. https://docs.python.org/3/library/pdb.html\n",
        "3. McKinney, Wes. [Python for Data Analysis: Data Wrangling with Pandas, NumPy, and IPython](https://www.oreilly.com/library/view/python-for-data/9781491957653/). O'Reilly Media, Inc., 2018.\n",
        "\n"
      ]
    },
    {
      "cell_type": "markdown",
      "metadata": {
        "id": "Apctdc1EafK-"
      },
      "source": [
        "# Programación Orientada a Objetos (OOP)"
      ]
    },
    {
      "cell_type": "markdown",
      "metadata": {
        "id": "BELjXeFTaj2a"
      },
      "source": [
        "Python es conocido como un lenguaje de programación multi-paradigma. Un paradigma en computación, es la manera (o estilo) de expresar las ideas lógicas del programa. Uno de los estilos de programación con el que cuenta python es el OOP, el cual, como su nombre dice, se basa en los objetos. A lo largo del curso hemos, implicitamente, programado en una manera orientada a objetos.\n",
        "\n",
        "La OOP busca tratar los objetos como contenedores de información.\n",
        "\n",
        "Recordaremos que todo en Python es un objeto y podemos conocer la clase a la que pertenece con la función *type*."
      ]
    },
    {
      "cell_type": "code",
      "metadata": {
        "id": "juMk385qas1z"
      },
      "source": [
        "type(\"SVM\")"
      ],
      "execution_count": null,
      "outputs": []
    },
    {
      "cell_type": "code",
      "metadata": {
        "id": "XX6U9AB3avP8"
      },
      "source": [
        "type(2)"
      ],
      "execution_count": null,
      "outputs": []
    },
    {
      "cell_type": "code",
      "metadata": {
        "id": "vH4mPXOwaw2i"
      },
      "source": [
        "type({\"nombre\": \"Bernt\", \"apellido\": \"Oksendal\"})"
      ],
      "execution_count": null,
      "outputs": []
    },
    {
      "cell_type": "markdown",
      "metadata": {
        "id": "GWKwn1puay6b"
      },
      "source": [
        "En general, un objeto cuenta con dos características especiales:\n",
        "* Funcionamiento\n",
        "* Atributos\n",
        "\n",
        "Para una persona,\n",
        "* Nombre, apellido, edad serían sus **atributos**\n",
        "* Correr, Programar, Estudiar serían sus **funcionalidades**"
      ]
    },
    {
      "cell_type": "markdown",
      "metadata": {
        "id": "OmA40FN5a5W9"
      },
      "source": [
        "Considerando la lista\n",
        "```python\n",
        "elements = [3.14, \"e\", \"x^2\"]\n",
        "```\n",
        "¿Qué atributos y que funcionalidades tendría la lista?"
      ]
    },
    {
      "cell_type": "markdown",
      "metadata": {
        "id": "eGbBuxPBbbnN"
      },
      "source": [
        "Hasta ahora hemos visto diferentes *clases* de objetos\n",
        "* `dict`\n",
        "* `float`\n",
        "* `str`\n",
        "* `set`\n",
        "* ...\n",
        "\n",
        "Cada uno con su propia funcionalidad. Pero, ¿qué sucedería si desearamos declarar nuestra propia clase? Podríamos definir una nueva clase para:\n",
        "* Trabajar con elementos matriciales\n",
        "* Una caja registadora\n",
        "* Trabajar con el tiempo"
      ]
    },
    {
      "cell_type": "markdown",
      "metadata": {
        "id": "mIKoklSDbeZP"
      },
      "source": [
        "## Definiendo Clases en Python"
      ]
    },
    {
      "cell_type": "markdown",
      "metadata": {
        "id": "khk1jC8-bfKW"
      },
      "source": [
        "En python, definimos una clase por medio del keyword `class`.  \n",
        "Supongamos queremos definir una clase `Human`."
      ]
    },
    {
      "cell_type": "code",
      "metadata": {
        "colab": {
          "base_uri": "https://localhost:8080/"
        },
        "id": "4_I21gxhbiGp",
        "outputId": "6e87e5f9-062e-483c-c38d-9423b4794400"
      },
      "source": [
        "class Human:\n",
        "    pass\n",
        "\n",
        "isaac = Human()\n",
        "type(isaac)"
      ],
      "execution_count": 1,
      "outputs": [
        {
          "output_type": "execute_result",
          "data": {
            "text/plain": [
              "__main__.Human"
            ]
          },
          "metadata": {},
          "execution_count": 1
        }
      ]
    },
    {
      "cell_type": "markdown",
      "metadata": {
        "id": "L_weyMqZbsx7"
      },
      "source": [
        "Isaac es una variable que guarda un objeto de clase `Human`. Sin embargo, `isaac`no tiene ningun atributo o funcionalidad definida hasta el momento. Al momento de crear una **instancia de una clase**, en ocasiones, es necesario *construir* nuestra clase o inicializar los elementos de la clase.\n",
        "\n",
        "Al definir un humano, tendría sentido tener un *nombre*, *apellido*, *edad* y *sexo* al momento de definir una nueva instancia de un `Human`. Para esto es necesario tener un **constructor** con las propiedades básicas de un humano al momento de su creación. Dentro de una clase, definimos su constructor por medio de `__init__`\n",
        "\n",
        "```python\n",
        "class ClassName:\n",
        "    def __init__(self, p1, p2, .., pk):\n",
        "        self.p1 = p1\n",
        "        self.p2 = p2\n",
        "        ...\n",
        "        self.pk = pk \n",
        "```\n",
        "\n",
        "Donde:\n",
        "* `self` hace referencia al objeto en cuestión, i.e., a la instancia del objeto definido.\n",
        "* `p1, ..., pk` son los parámetros que le daremos al constructor\n",
        "* `self.p1, ..., self.pk` son atributos o funcionalidades que la instancia del objeto tendrá definida\n",
        "\n",
        "**Nota**:\n",
        "* `pi` es un elemento que no existe dentro de la clase \n",
        "* `self.pi` es un elemento de la clase\n",
        "\n",
        "Podemos pensar la diferencia entre `pi` y `self.pi` considerando la clase `Human` que estamos definiendo: `nombre` sería el nombre que el padre de un humano desea darle a su hijo. Cuando escribimos, dentro de la clase, `self.nombre = nombre` le asignamos al humano el nombre deseado."
      ]
    },
    {
      "cell_type": "code",
      "metadata": {
        "id": "wMWAUioNbwpz"
      },
      "source": [
        "class Human:\n",
        "    def __init__(self, name, last_name, age, gender):\n",
        "        self.name = name\n",
        "        self.last_name = last_name\n",
        "        self.age = age\n",
        "        self.gender = gender"
      ],
      "execution_count": null,
      "outputs": []
    },
    {
      "cell_type": "code",
      "metadata": {
        "id": "fw4Paeo5byWV"
      },
      "source": [
        "geof = Human(\"Geoffrey\", \"Hinton\", 70, \"male\")"
      ],
      "execution_count": null,
      "outputs": []
    },
    {
      "cell_type": "markdown",
      "metadata": {
        "id": "7UsPAaVMb0cF"
      },
      "source": [
        "Al definir una nueva instancia de la clase, geof ahora tiene 4 atributos:"
      ]
    },
    {
      "cell_type": "code",
      "metadata": {
        "id": "Q1DZM_3bb0_A"
      },
      "source": [
        "geof.name"
      ],
      "execution_count": null,
      "outputs": []
    },
    {
      "cell_type": "code",
      "metadata": {
        "id": "tAPLfChub4M7"
      },
      "source": [
        "geof.age"
      ],
      "execution_count": null,
      "outputs": []
    },
    {
      "cell_type": "markdown",
      "metadata": {
        "id": "Q94s6F4bb_9J"
      },
      "source": [
        "Como se explicó anteriormente, un objeto debe tener tanto atributos como funcionalidad. En el caso de un humano, una funcionalidad que podría tener es cumplir años. Para esto, podemos definir un nuevo **método** que modifique la edad de nuestro `Human`"
      ]
    },
    {
      "cell_type": "code",
      "metadata": {
        "id": "x3qaj_KfcAkv"
      },
      "source": [
        "class Human:\n",
        "    def __init__(self, name, last_name, age, gender):\n",
        "        self.name = name\n",
        "        self.last_name = last_name\n",
        "        self.age = age\n",
        "        self.gender = gender\n",
        "    \n",
        "    def birthday(self):\n",
        "        self.age = self.age + 1"
      ],
      "execution_count": null,
      "outputs": []
    },
    {
      "cell_type": "code",
      "metadata": {
        "id": "lGu4jhPkcEGE"
      },
      "source": [
        "geof = Human(\"Geoffrey\", \"Hinton\", 70, \"male\")\n",
        "geof.age"
      ],
      "execution_count": null,
      "outputs": []
    },
    {
      "cell_type": "code",
      "metadata": {
        "id": "mvkO90DEcF0_"
      },
      "source": [
        "# Geof cunple años\n",
        "geof.birthday()\n",
        "geof.age"
      ],
      "execution_count": null,
      "outputs": []
    },
    {
      "cell_type": "code",
      "metadata": {
        "id": "2UVCjNX_cHuF"
      },
      "source": [
        "class Human:\n",
        "    def __init__(self, name, last_name, age, gender):\n",
        "        self.name = name\n",
        "        self.last_name = last_name\n",
        "        self.age = age\n",
        "        self.gender = gender\n",
        "    \n",
        "    def birthday(self):\n",
        "        self.age = self.age + 1\n",
        "    \n",
        "    def greeting(self):\n",
        "        print(f\"Hello, my name is {self.name} {self.last_name}. I am {self.age} years old\")"
      ],
      "execution_count": null,
      "outputs": []
    },
    {
      "cell_type": "code",
      "metadata": {
        "id": "LOmIxul6cKwW"
      },
      "source": [
        "class Animal:\n",
        "    def __init__(self, specie, can_fly):\n",
        "        self.specie = specie\n",
        "        self.can_fly = can_fly\n",
        "        self.is_exint = False\n",
        "    \n",
        "    def exint(self):\n",
        "        print(f\"The specie {self.specie} is exint!\")\n",
        "        self.is_exint = True"
      ],
      "execution_count": null,
      "outputs": []
    },
    {
      "cell_type": "markdown",
      "metadata": {
        "id": "KKckUcJBcN3l"
      },
      "source": [
        "## Métodos especiales\n",
        "`__dunders__`\n",
        "\n",
        "Adicional a `__init__`, python cuenta con [métodos especiales](https://docs.python.org/3/reference/datamodel.html#special-method-names) que nos permiten *enriquecer* la funcionalidad de nuestras clases permitiendonos ocupar funciones definidas en python.\n",
        "\n",
        "Cómo un ejemplo, consideremos la *representación* y la *longitud* de la clase `Human`"
      ]
    },
    {
      "cell_type": "code",
      "metadata": {
        "id": "S5OQSxNgcY5G"
      },
      "source": [
        "geof = Human(\"Geoffrey\", \"Hinton\", 70, \"male\")\n",
        "demis = Human(\"Demis\", \"Hassabis\", 42, \"male\")\n",
        "geof"
      ],
      "execution_count": null,
      "outputs": []
    },
    {
      "cell_type": "code",
      "metadata": {
        "id": "45760_oEcbhR"
      },
      "source": [
        "len(geof)"
      ],
      "execution_count": null,
      "outputs": []
    },
    {
      "cell_type": "markdown",
      "metadata": {
        "id": "xwyKEuvocgeh"
      },
      "source": [
        "1. La representación de `Human` no nos dice mucho sobre el objeto en cuestión \n",
        "2. No tenemos definido una *longitud* para un humano"
      ]
    },
    {
      "cell_type": "code",
      "metadata": {
        "id": "hveBPpRacizG"
      },
      "source": [
        "class Human:\n",
        "    def __init__(self, name, last_name, age, gender):\n",
        "        self.name = name\n",
        "        self.last_name = last_name\n",
        "        self.age = age\n",
        "        self.gender = gender\n",
        "    \n",
        "    def birthday(self):\n",
        "        self.age = self.age + 1\n",
        "    \n",
        "    # Cambiando la representación de la clase Human\n",
        "    def __repr__(self):\n",
        "        return f\"Human({self.last_name}, {self.name})\"\n",
        "    \n",
        "    # Definiendo que es la longitud de la clase Human\n",
        "    def __len__(self):\n",
        "        return self.age\n",
        "    \n",
        "    # Definiendo una relación de <\n",
        "    def __lt__(self, h2):\n",
        "        return self.age < h2.age"
      ],
      "execution_count": null,
      "outputs": []
    },
    {
      "cell_type": "code",
      "metadata": {
        "id": "yt3T0i7VcrmM"
      },
      "source": [
        "geof = Human(\"Geoffrey\", \"Hinton\", 70, \"male\")\n",
        "demis = Human(\"Demis\", \"Hassabis\", 42, \"male\")"
      ],
      "execution_count": null,
      "outputs": []
    },
    {
      "cell_type": "code",
      "metadata": {
        "id": "vR_OqOGtcuOc"
      },
      "source": [
        "geof"
      ],
      "execution_count": null,
      "outputs": []
    },
    {
      "cell_type": "code",
      "metadata": {
        "id": "An90pwiScunS"
      },
      "source": [
        "len(geof)"
      ],
      "execution_count": null,
      "outputs": []
    },
    {
      "cell_type": "markdown",
      "metadata": {
        "id": "FYvpp65rcyzi"
      },
      "source": [
        "## _Inheritance_\n",
        "En el paradigma OOP existe la propiedad de *heredar*, la cuál nos permite definir una nueva clase considerando los elementos de una clase anterior. Esta propiedad es útil en ocasiones en las cuáles necesitamos definir una case cuyas propiedades y/o métodos dependan de alguna otra clase previamente definida: \n",
        "\n",
        "Definir una herencia en python se logra de la siguiente manera:\n",
        "\n",
        "```python\n",
        "class NewClasss(BaseClass):\n",
        "    ...\n",
        "```"
      ]
    },
    {
      "cell_type": "code",
      "metadata": {
        "id": "FKoQ6blNc1cH"
      },
      "source": [
        "class ClassA:\n",
        "    def method_a(self):\n",
        "        print(\"Provengo de la clase A\")\n",
        "\n",
        "class ClassB(ClassA):\n",
        "    def method_b(self):\n",
        "        print(\"Provengo de la clase B\")"
      ],
      "execution_count": null,
      "outputs": []
    },
    {
      "cell_type": "code",
      "metadata": {
        "id": "q-0nlVFJc3q9"
      },
      "source": [
        "b = ClassB()\n",
        "b.method_a()"
      ],
      "execution_count": null,
      "outputs": []
    },
    {
      "cell_type": "markdown",
      "metadata": {
        "id": "9xAGbj7wc6gq"
      },
      "source": [
        "### `super()`\n",
        "Muy comúnmente, al tener una clase `B` que herede de otra clase `A`, `A` contará con parámetros dentro de su constructor que serán necesarios inicializar. Para inicializar una clase `A` dentro de una clase `B`, haremos uso de la función `super()` dentro de la definición del constructor de `B`."
      ]
    },
    {
      "cell_type": "code",
      "metadata": {
        "id": "ZsUjkGxFdCtI"
      },
      "source": [
        "class Student(Human):\n",
        "    def __init__(self, name, last_name, age, gender, major):\n",
        "        # Inicializamos los valores que provienen desde 'Human'\n",
        "        super().__init__(name, last_name, age, gender) # inicializamos el objeto\n",
        "        self.major = major"
      ],
      "execution_count": null,
      "outputs": []
    },
    {
      "cell_type": "code",
      "metadata": {
        "id": "sgcqmJXGdIOw"
      },
      "source": [
        "leonardo = Student(\"Leonardo\", \"Arredondo\", 18, \"male\", \"actuary\")"
      ],
      "execution_count": null,
      "outputs": []
    },
    {
      "cell_type": "code",
      "metadata": {
        "id": "PBXDoNPNdJ2h"
      },
      "source": [
        "leonardo.age"
      ],
      "execution_count": null,
      "outputs": []
    },
    {
      "cell_type": "code",
      "metadata": {
        "id": "gwHWvB7fdMdD"
      },
      "source": [
        "leonardo.birthday()\n",
        "leonardo.age"
      ],
      "execution_count": null,
      "outputs": []
    },
    {
      "cell_type": "markdown",
      "metadata": {
        "id": "QPj1lFLXdRP_"
      },
      "source": [
        "En general, `super()` regresa un objeto que que delega llamadas a métodos de clases padre o bajo el mismo nivel. De acuerdo a la documentación,\n",
        "\n",
        "> [...] esto es útil para accesar a métodos heredados que han sido sobreescritos en una clase\n"
      ]
    },
    {
      "cell_type": "markdown",
      "metadata": {
        "id": "xCtpJOYkdWMa"
      },
      "source": [
        "## Métodos y propiedades privadas\n",
        "¿Qué sucede si nuestra clase contiene un método o atributo atributo el cuál no deseamos que el usuario de la clase no utilice?\n",
        "\n",
        "Recordemos nuestra función\n",
        "```python\n",
        "class Human:\n",
        "    def __init__(self, name, last_name, age, gender):\n",
        "        self.name = name\n",
        "        self.last_name = last_name\n",
        "        self.age = age\n",
        "        self.gender = gender\n",
        "    \n",
        "    def birthday(self):\n",
        "        self.age = self.age + 1\n",
        "```"
      ]
    },
    {
      "cell_type": "markdown",
      "metadata": {
        "id": "Rl5Wc75EdZe-"
      },
      "source": [
        "y consideremos la siguiente instancia de `Human`"
      ]
    },
    {
      "cell_type": "code",
      "metadata": {
        "id": "FeUsNECQdcO6"
      },
      "source": [
        "chris = Human(\"Christopher\", \"Bishop\", 60, \"male\")\n",
        "chris.name"
      ],
      "execution_count": null,
      "outputs": []
    },
    {
      "cell_type": "markdown",
      "metadata": {
        "id": "s8EHeYyqdePJ"
      },
      "source": [
        "Aunque la manera correcta, de acuerdo a nuestra clase, es agregar una edad es mediante el método `birthday`, nada impide a un usuario de nuestra clase acceder a `edad` y modificarlo a su manera"
      ]
    },
    {
      "cell_type": "code",
      "metadata": {
        "id": "HyrsLHandhKa"
      },
      "source": [
        "chris.age += 100\n",
        "chris.age"
      ],
      "execution_count": null,
      "outputs": []
    },
    {
      "cell_type": "code",
      "metadata": {
        "id": "gS12uszQdixi"
      },
      "source": [
        "class Human:\n",
        "    def __init__(self, name, last_name, age, gender):\n",
        "        self._name = name\n",
        "        self._last_name = last_name\n",
        "        self._age = age\n",
        "        self._gender = gender\n",
        "\n",
        "    def birthday(self):\n",
        "        self.age = self.age + 1\n",
        "    \n",
        "    def get_name(self):\n",
        "        return self._name"
      ],
      "execution_count": null,
      "outputs": []
    },
    {
      "cell_type": "code",
      "metadata": {
        "id": "kbp5biWMdxNm"
      },
      "source": [
        "chris = Human(\"Christopher\", \"Bishop\", 60, \"male\")\n",
        "chris.name"
      ],
      "execution_count": null,
      "outputs": []
    },
    {
      "cell_type": "code",
      "metadata": {
        "id": "pDYtIxZLdzLY"
      },
      "source": [
        "# Manera incorrecta de acceder a la variable\n",
        "chris._name"
      ],
      "execution_count": null,
      "outputs": []
    },
    {
      "cell_type": "code",
      "metadata": {
        "id": "V6Q-tFjPd1X-"
      },
      "source": [
        "# Manera correcta de accedera a la variable\n",
        "chris.get_name()"
      ],
      "execution_count": null,
      "outputs": []
    },
    {
      "cell_type": "markdown",
      "metadata": {
        "id": "jUYwMl-Jd4NG"
      },
      "source": [
        "### Usando _dunders_ `__`"
      ]
    },
    {
      "cell_type": "code",
      "metadata": {
        "id": "FR9Y7B-md7dM"
      },
      "source": [
        "class Human:\n",
        "    def __init__(self, name, last_name, age, gender):\n",
        "        self.__name = name\n",
        "        self.last_name = last_name\n",
        "        self.age = age\n",
        "        self.gender = gender\n",
        "\n",
        "    def birthday(self):\n",
        "        self.age = self.age + 1\n",
        "    \n",
        "    def get_name(self):\n",
        "        return self.__name"
      ],
      "execution_count": null,
      "outputs": []
    },
    {
      "cell_type": "code",
      "metadata": {
        "id": "KW6yhsRvd9pJ"
      },
      "source": [
        "chris = Human(\"Christopher\", \"Bishop\", 60, \"male\")"
      ],
      "execution_count": null,
      "outputs": []
    },
    {
      "cell_type": "code",
      "metadata": {
        "id": "FhcCIt3eeEq8"
      },
      "source": [
        "# Manera incorrecta de acceder a la variable\n",
        "chris._Human__name"
      ],
      "execution_count": null,
      "outputs": []
    },
    {
      "cell_type": "code",
      "metadata": {
        "id": "i8NsUTqjeGkf"
      },
      "source": [
        "# Manera correcta de accedera a la variable\n",
        "chris.get_name()"
      ],
      "execution_count": null,
      "outputs": []
    },
    {
      "cell_type": "markdown",
      "metadata": {
        "id": "FaNYX06leRqz"
      },
      "source": [
        "A fin de _tratar_ evitar que un usuario modifique una propiedad de la clase, podemos hacer de este objeto privado siguiendo las siguientes convenciones:\n",
        "    1. `_nombre_var` es una convención dentro de Python la cuál le informa al usuario que la variable `_nombre_var` no es pública. Sin embargo, el usuario puede acceder a esta.\n",
        "    2. `__nombre_var` (dos guiónes bajos al inicio) modifica la variable `__nombre_var` por `__nombre_clase_nombre_var`"
      ]
    },
    {
      "cell_type": "markdown",
      "metadata": {
        "id": "VMpogw2vee6F"
      },
      "source": [
        "## Referencias\n",
        "\n",
        "1. https://rhettinger.wordpress.com/2011/05/26/super-considered-super/\n",
        "2. https://docs.python.org/3/library/functions.html#super\n",
        "3. https://docs.python.org/3/tutorial/classes.html"
      ]
    }
  ]
}