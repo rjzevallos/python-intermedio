{
  "nbformat": 4,
  "nbformat_minor": 0,
  "metadata": {
    "kernelspec": {
      "display_name": "Python 3",
      "language": "python",
      "name": "python3"
    },
    "language_info": {
      "codemirror_mode": {
        "name": "ipython",
        "version": 3
      },
      "file_extension": ".py",
      "mimetype": "text/x-python",
      "name": "python",
      "nbconvert_exporter": "python",
      "pygments_lexer": "ipython3",
      "version": "3.6.8"
    },
    "colab": {
      "name": "Clase_3_2.ipynb",
      "provenance": [],
      "collapsed_sections": [],
      "toc_visible": true,
      "include_colab_link": true
    }
  },
  "cells": [
    {
      "cell_type": "markdown",
      "metadata": {
        "id": "view-in-github",
        "colab_type": "text"
      },
      "source": [
        "<a href=\"https://colab.research.google.com/github/rjzevallos/python-intermedio/blob/main/Clase_3_2.ipynb\" target=\"_parent\"><img src=\"https://colab.research.google.com/assets/colab-badge.svg\" alt=\"Open In Colab\"/></a>"
      ]
    },
    {
      "cell_type": "markdown",
      "metadata": {
        "id": "LQGvy-7vHSA6"
      },
      "source": [
        "# Generadores e Iteradores\n",
        "\n"
      ]
    },
    {
      "cell_type": "markdown",
      "metadata": {
        "id": "_ymjkRotHSBB"
      },
      "source": [
        "Recordemos la manera de generar un rango de elementos dentro de Python es mediante la función `range`"
      ]
    },
    {
      "cell_type": "code",
      "metadata": {
        "colab": {
          "base_uri": "https://localhost:8080/"
        },
        "id": "q_PIBtg4HSBC",
        "outputId": "42a172b9-c2ad-498e-bb66-09c9c0aaf01b"
      },
      "source": [
        "for i in range(1, 4):\n",
        "    print(i, end=\" \")"
      ],
      "execution_count": null,
      "outputs": [
        {
          "output_type": "stream",
          "name": "stdout",
          "text": [
            "1 2 3 "
          ]
        }
      ]
    },
    {
      "cell_type": "markdown",
      "metadata": {
        "id": "8vnKJClYHSBF"
      },
      "source": [
        "Sin embargo, si al crear una instancia de un `range`, el resultado no es una colección con los elementos deseados."
      ]
    },
    {
      "cell_type": "code",
      "metadata": {
        "colab": {
          "base_uri": "https://localhost:8080/"
        },
        "id": "epXLJnycHSBF",
        "outputId": "b31cf4fa-7877-47a4-9398-bc4a24bd0def"
      },
      "source": [
        "range(10)"
      ],
      "execution_count": null,
      "outputs": [
        {
          "output_type": "execute_result",
          "data": {
            "text/plain": [
              "range(0, 10)"
            ]
          },
          "metadata": {},
          "execution_count": 100
        }
      ]
    },
    {
      "cell_type": "markdown",
      "metadata": {
        "id": "wyPTH2bBHSBG"
      },
      "source": [
        "El resultado de `range(10)` se conoce como un generador. Pero antes de hablar de generadores es necesario hablar de **iterables**."
      ]
    },
    {
      "cell_type": "markdown",
      "metadata": {
        "id": "tL0M0ZwRHSBG"
      },
      "source": [
        "## Iterables\n",
        "\n",
        "Un iterable es un objeto de python que implementa el método `__iter__`. Al utlizar un _for loop_, python llama la función `iter` sobre el objeto a trabajar."
      ]
    },
    {
      "cell_type": "markdown",
      "metadata": {
        "id": "Em5Sne9_HSBH"
      },
      "source": [
        "Por abajo del agua, cuando llamamos un for loop,\n",
        "1. Python llama la función `iter()` sobre el objeto a iterar;\n",
        "2. La función `iter()` regresa un objeto **iterable** sobre el cuál se define el método `__next__()`;\n",
        "3. Python llama la el método `__next__` sobre el resultado del `iter` hasta que no existan más elementos a regresar, en cuyo caso Python levanta una excepción `StopIteration` que termina el loop. "
      ]
    },
    {
      "cell_type": "code",
      "metadata": {
        "id": "UGQuTX2IHSBI"
      },
      "source": [
        "values = iter(range(1, 4))"
      ],
      "execution_count": null,
      "outputs": []
    },
    {
      "cell_type": "code",
      "metadata": {
        "colab": {
          "base_uri": "https://localhost:8080/"
        },
        "id": "SRW4ENBWHSBJ",
        "outputId": "31cc77c1-d26c-4071-aee8-5e32891eb9ed"
      },
      "source": [
        "next(values)"
      ],
      "execution_count": null,
      "outputs": [
        {
          "output_type": "execute_result",
          "data": {
            "text/plain": [
              "1"
            ]
          },
          "metadata": {},
          "execution_count": 102
        }
      ]
    },
    {
      "cell_type": "code",
      "metadata": {
        "colab": {
          "base_uri": "https://localhost:8080/"
        },
        "id": "uzAiYyueHSBK",
        "outputId": "b7441d0e-338b-460a-d00f-2de0c80886d2"
      },
      "source": [
        "next(values)"
      ],
      "execution_count": null,
      "outputs": [
        {
          "output_type": "execute_result",
          "data": {
            "text/plain": [
              "2"
            ]
          },
          "metadata": {},
          "execution_count": 103
        }
      ]
    },
    {
      "cell_type": "code",
      "metadata": {
        "colab": {
          "base_uri": "https://localhost:8080/"
        },
        "id": "jM1LFp3MHSBK",
        "outputId": "f468a5ae-03c3-4988-acfc-8a1a08e72b12"
      },
      "source": [
        "next(values)"
      ],
      "execution_count": null,
      "outputs": [
        {
          "output_type": "execute_result",
          "data": {
            "text/plain": [
              "3"
            ]
          },
          "metadata": {},
          "execution_count": 104
        }
      ]
    },
    {
      "cell_type": "markdown",
      "metadata": {
        "id": "j_PY1T-wHSBL"
      },
      "source": [
        "<h2 style=\"color:teal\">Ejemplo</h2>\n",
        "\n",
        "Creemos un primer _iterable_ que nos regrese números entre el 2 y el 10 al azar. Si el número observado es un 1, el ciclo se rompe."
      ]
    },
    {
      "cell_type": "code",
      "metadata": {
        "id": "H9Rx9FXOHSBM"
      },
      "source": [
        "from random import randint, seed\n",
        "\n",
        "# Creamos un objeto: necesario para crear un iterable\n",
        "class RandomValues:\n",
        "    # Mencionamos que esta clase puede ser iterada\n",
        "    def __iter__(self):\n",
        "        return self\n",
        "    # Definimos que sucede a cada iteración\n",
        "    def __next__(self):\n",
        "        value = randint(1, 10)\n",
        "        if value == 1:\n",
        "            raise StopIteration  # signals \"the end\"\n",
        "        return value"
      ],
      "execution_count": null,
      "outputs": []
    },
    {
      "cell_type": "markdown",
      "metadata": {
        "id": "1TOpkNSPHSBM"
      },
      "source": [
        "La clase `RandomValues` únicamente implementa los métodos `__iter__` y `__next__`. Necesarios y suficientes para crear un iterable:"
      ]
    },
    {
      "cell_type": "code",
      "metadata": {
        "colab": {
          "base_uri": "https://localhost:8080/"
        },
        "id": "uGcj9SjaHSBN",
        "outputId": "9a710c82-11c1-4809-da52-92cdc771a62e"
      },
      "source": [
        "seed(314)\n",
        "for v in RandomValues():\n",
        "    print(v, end=\" \")"
      ],
      "execution_count": null,
      "outputs": [
        {
          "output_type": "stream",
          "name": "stdout",
          "text": [
            "4 8 2 3 "
          ]
        }
      ]
    },
    {
      "cell_type": "code",
      "metadata": {
        "colab": {
          "base_uri": "https://localhost:8080/"
        },
        "id": "yCLqrSKpHSBN",
        "outputId": "579e8426-83aa-421b-9c96-7ae4c72a7e3d"
      },
      "source": [
        "seed(31415)\n",
        "for v in RandomValues():\n",
        "    print(v, end=\" \")"
      ],
      "execution_count": null,
      "outputs": [
        {
          "output_type": "stream",
          "name": "stdout",
          "text": [
            "10 5 8 "
          ]
        }
      ]
    },
    {
      "cell_type": "code",
      "metadata": {
        "colab": {
          "base_uri": "https://localhost:8080/"
        },
        "id": "uo2WVEOCHSBO",
        "outputId": "84f95098-3d22-4a58-e3d3-d8fd0a1c9e74"
      },
      "source": [
        "seed(31415926)\n",
        "for v in RandomValues():\n",
        "    print(v, end=\" \")"
      ],
      "execution_count": null,
      "outputs": [
        {
          "output_type": "stream",
          "name": "stdout",
          "text": [
            "7 7 6 5 8 "
          ]
        }
      ]
    },
    {
      "cell_type": "markdown",
      "metadata": {
        "id": "KABnh98wHSBO"
      },
      "source": [
        "<h2 style=\"color:teal\">Ejemplo</h2>\n",
        "Consideremos el siguiente ejemplo: queremos crear una clase iterable que nos regrese valores de Fibonacci uno a uno:"
      ]
    },
    {
      "cell_type": "code",
      "metadata": {
        "id": "uGAFPaEyHSBP"
      },
      "source": [
        "class FiboIter:\n",
        "    # Valores únicos de la clase:\n",
        "    #  * Número de elementos a iterar\n",
        "    #  * Número actual (x1)\n",
        "    #  * Número anterior (x0)\n",
        "    #  * Número de elementos iterados (curr_elements)\n",
        "    def __init__(self, n_elements):\n",
        "        self.x0 = 0\n",
        "        self.x1 = 1\n",
        "        self.n_elements = n_elements\n",
        "        self.curr_elements = 0\n",
        "    def __iter__(self):\n",
        "        return self\n",
        "    def __next__(self):\n",
        "        self.curr_elements += 1\n",
        "        if self.curr_elements == 1:\n",
        "            return self.x0\n",
        "        elif self.curr_elements == 2:\n",
        "            return self.x1\n",
        "        elif self.curr_elements < self.n_elements:\n",
        "            self.x0, self.x1 = self.x1, self.x0 + self.x1\n",
        "            return self.x1\n",
        "        else:\n",
        "            raise StopIteration"
      ],
      "execution_count": null,
      "outputs": []
    },
    {
      "cell_type": "code",
      "metadata": {
        "colab": {
          "base_uri": "https://localhost:8080/"
        },
        "id": "HLNBtgkmHSBQ",
        "outputId": "cd1c3ea5-2780-489a-8965-7c28f7adb190"
      },
      "source": [
        "for n in FiboIter(10):\n",
        "    print(n, end=\" \")"
      ],
      "execution_count": null,
      "outputs": [
        {
          "output_type": "stream",
          "name": "stdout",
          "text": [
            "0 1 1 2 3 5 8 13 21 "
          ]
        }
      ]
    },
    {
      "cell_type": "markdown",
      "metadata": {
        "id": "1ri1IPrlHSBS"
      },
      "source": [
        "## Generadores"
      ]
    },
    {
      "cell_type": "markdown",
      "metadata": {
        "id": "USO_9XI1HSBS"
      },
      "source": [
        "La complejidad de crear un iterador no es siempre necesaria. Un _generador_ es una simple y efectiva herramienta para crear un iterador.\n",
        "\n",
        "> Una función _generadora_ nos permite declarar una función que se comporte como un iterador, i.e., que se pueda usar en un _for loop_\n",
        "\n",
        "La diferencia entre una función y un generador está en usar el keyword `yield` a cada momento que deseamos regresar información.\n",
        "\n",
        "```python\n",
        "def generator_fn():\n",
        "    ...\n",
        "    yield v\n",
        "```\n",
        "\n",
        "A diferencia de una función, al llegar a `yield`, la función regresa un valor y sigue el curso de la función."
      ]
    },
    {
      "cell_type": "code",
      "metadata": {
        "colab": {
          "base_uri": "https://localhost:8080/"
        },
        "id": "fnM9WKuvHSBT",
        "outputId": "dda7dc39-6dcc-490b-fd31-82d8a6379fe2"
      },
      "source": [
        "from time import sleep\n",
        "def give_10():\n",
        "    for i in range(10):\n",
        "        yield i\n",
        "\n",
        "for v in give_10():\n",
        "    print(v, end=\" \")"
      ],
      "execution_count": null,
      "outputs": [
        {
          "output_type": "stream",
          "name": "stdout",
          "text": [
            "0 1 2 3 4 5 6 7 8 9 "
          ]
        }
      ]
    },
    {
      "cell_type": "code",
      "metadata": {
        "colab": {
          "base_uri": "https://localhost:8080/"
        },
        "id": "DWMWyiVcHSBT",
        "outputId": "0c72f041-abb6-4588-86f2-7736193efffd"
      },
      "source": [
        "from time import sleep\n",
        "def give_10():\n",
        "    return [0, 1, 2, 3, 4, 5, 6, 7, 8, 9]\n",
        "\n",
        "for v in give_10():\n",
        "    print(v, end=\" \")"
      ],
      "execution_count": null,
      "outputs": [
        {
          "output_type": "stream",
          "name": "stdout",
          "text": [
            "0 1 2 3 4 5 6 7 8 9 "
          ]
        }
      ]
    },
    {
      "cell_type": "markdown",
      "metadata": {
        "id": "r2slDgFMHSBU"
      },
      "source": [
        "<h2 style=\"color:teal\">Ejemplo</h2>\n",
        "\n",
        "1. Crea el generador `fizz_buzz(n)` el cual itere `n` veces y cumpla que, para cada `i = 1, ..., n`,\n",
        "    * Si `i` es divisible por `3`, el generador deberá regresar `\"Fizz\"`;\n",
        "    * si `i` es divisible por `5`, el generador deberá regresar `\"Buzz\"`; \n",
        "    * si `i` es divisible por `5` y `3`, el generador deberá regresar `\"FizzBuzz\"`; \n",
        "    * si ninguna de las reglas de arriba se cumple, el generador deberá regresar `i`."
      ]
    },
    {
      "cell_type": "code",
      "metadata": {
        "colab": {
          "base_uri": "https://localhost:8080/"
        },
        "id": "pAZJVt3bHSBU",
        "outputId": "ab11e5d4-10aa-4d31-d2ea-1257d0dbd2cd"
      },
      "source": [
        "def fizz_buzz(n):\n",
        "    for i in range(1, n + 1):\n",
        "        f_or_b = [i % 3 == 0, i % 5 == 0]\n",
        "        if any(f_or_b):\n",
        "            yield \"Fizz\" * f_or_b[0] + \"Buzz\" * f_or_b[1]\n",
        "        else:\n",
        "            yield i\n",
        "\n",
        "for v in fizz_buzz(15):\n",
        "    print(v, end=\"   \")"
      ],
      "execution_count": null,
      "outputs": [
        {
          "output_type": "stream",
          "name": "stdout",
          "text": [
            "1   2   Fizz   4   Buzz   Fizz   7   8   Fizz   Buzz   11   Fizz   13   14   FizzBuzz   "
          ]
        }
      ]
    },
    {
      "cell_type": "markdown",
      "metadata": {
        "id": "vCzpubKFHSBV"
      },
      "source": [
        "2. Calculemos la suma de los números $\\{0, 1, \\ldots, 10^{10} - 1\\}$. Considerando los siguientes dos programas, **¿Cuál de las siguientes gráficas es más factible haya sido creado por el primer programa? ¿por qué?**\n",
        "\n",
        "* `Programa_1`\n",
        "```python\n",
        "    sum(list(range(10 ** 10)))\n",
        "```\n",
        "\n",
        "* `Programa_2`\n",
        "```python\n",
        "    sum(range(10 ** 10))\n",
        "```"
      ]
    },
    {
      "cell_type": "markdown",
      "metadata": {
        "id": "2zT0JKr5HSBV"
      },
      "source": [
        "Del ejemplo anterior,\n",
        "* el incremento de memoría usada del segundo al primer programa, en su punto máximo es 9,900% (approx);\n",
        "* el incremento del primer al segundo programa fue 125% (approx)"
      ]
    },
    {
      "cell_type": "markdown",
      "metadata": {
        "id": "QaOkNIjxHSBW"
      },
      "source": [
        "Usar un generador es más convieniente cuando:\n",
        "* Trabajemos con datos sobre los cuáles vamos a iterar. _Desempacar_ los valores uno a uno o _one shot_ depende de la cantidad de información con la que trabajaremos;\n",
        "* exista un proceso dentro de nuestro programa el cuál no dependa de nuestra computadora, e.g., requerir información de un servidor o base de datos.\n",
        "\n"
      ]
    },
    {
      "cell_type": "markdown",
      "metadata": {
        "id": "2ljgi14aHSBW"
      },
      "source": [
        "## Itertools\n",
        "\n",
        "`itertools` es una colección de generadores es que regresan `iterators`. Como hemos visto, es importante crear iteradores que controlen el uso de memoria. `itertools` es una librería especializada para tratar con esos problemas."
      ]
    },
    {
      "cell_type": "code",
      "metadata": {
        "id": "OUUQFhPBHSBW"
      },
      "source": [
        "import itertools as it\n",
        "import math"
      ],
      "execution_count": null,
      "outputs": []
    },
    {
      "cell_type": "markdown",
      "metadata": {
        "id": "ohyKuoPWHSBX"
      },
      "source": [
        "---\n",
        "### `itertools.count`\n",
        "Esta función es un contador infinito de valores"
      ]
    },
    {
      "cell_type": "code",
      "metadata": {
        "scrolled": false,
        "colab": {
          "base_uri": "https://localhost:8080/"
        },
        "id": "Q_VpbnDwHSBX",
        "outputId": "cd711364-8ccd-45ce-e694-d1d7a3241b6a"
      },
      "source": [
        "for x in it.count(start=0, step=math.pi / 5):\n",
        "    y = math.sin(x)\n",
        "    print(y)\n",
        "    if round(y) == 0 and x != 0:\n",
        "        break"
      ],
      "execution_count": null,
      "outputs": [
        {
          "output_type": "stream",
          "name": "stdout",
          "text": [
            "0.0\n",
            "0.5877852522924731\n",
            "0.9510565162951535\n",
            "0.9510565162951536\n",
            "0.5877852522924732\n",
            "1.2246467991473532e-16\n"
          ]
        }
      ]
    },
    {
      "cell_type": "code",
      "metadata": {
        "colab": {
          "base_uri": "https://localhost:8080/"
        },
        "id": "MGbGEkrJHSBX",
        "outputId": "441f5fb3-52c4-4003-f729-39ca7c268c82"
      },
      "source": [
        "values = [1, 2, 3, 4]\n",
        "for v, dec in zip(values, it.count(0, 0.1)):\n",
        "    print(f\"{v} ^ {dec:0.2f} = {v ** dec:0.2f}\")"
      ],
      "execution_count": null,
      "outputs": [
        {
          "output_type": "stream",
          "name": "stdout",
          "text": [
            "1 ^ 0.00 = 1.00\n",
            "2 ^ 0.10 = 1.07\n",
            "3 ^ 0.20 = 1.25\n",
            "4 ^ 0.30 = 1.52\n"
          ]
        }
      ]
    },
    {
      "cell_type": "markdown",
      "metadata": {
        "id": "GxmlME8qHSBX"
      },
      "source": [
        "----\n",
        "### `itertools.cycle`\n",
        "Dado un iterable, esta función itera uno a uno los valores y, una vez agotados, incia de nuevo"
      ]
    },
    {
      "cell_type": "code",
      "metadata": {
        "colab": {
          "base_uri": "https://localhost:8080/"
        },
        "id": "yLPSPUJeHSBX",
        "outputId": "686366a1-2789-4138-868c-9f0bbb370606"
      },
      "source": [
        "letters = [\"A\", \"B\"]\n",
        "for n, letter in enumerate(it.cycle(letters)):\n",
        "    if n == 10:\n",
        "        break\n",
        "    print(n, letter)"
      ],
      "execution_count": null,
      "outputs": [
        {
          "output_type": "stream",
          "name": "stdout",
          "text": [
            "0 A\n",
            "1 B\n",
            "2 A\n",
            "3 B\n",
            "4 A\n",
            "5 B\n",
            "6 A\n",
            "7 B\n",
            "8 A\n",
            "9 B\n"
          ]
        }
      ]
    },
    {
      "cell_type": "code",
      "metadata": {
        "colab": {
          "base_uri": "https://localhost:8080/"
        },
        "id": "j9KJSPsJHSBY",
        "outputId": "ee449cfc-a546-4879-cc4a-9a351b5f26c0"
      },
      "source": [
        "numbers = range(1, 20)\n",
        "forms = [\"impar\", \"par\"]\n",
        "for number, form in zip(numbers, it.cycle(forms)):\n",
        "    print(f\"{number:02} {form}\")"
      ],
      "execution_count": null,
      "outputs": [
        {
          "output_type": "stream",
          "name": "stdout",
          "text": [
            "01 impar\n",
            "02 par\n",
            "03 impar\n",
            "04 par\n",
            "05 impar\n",
            "06 par\n",
            "07 impar\n",
            "08 par\n",
            "09 impar\n",
            "10 par\n",
            "11 impar\n",
            "12 par\n",
            "13 impar\n",
            "14 par\n",
            "15 impar\n",
            "16 par\n",
            "17 impar\n",
            "18 par\n",
            "19 impar\n"
          ]
        }
      ]
    },
    {
      "cell_type": "markdown",
      "metadata": {
        "id": "__9ZTolLHSBY"
      },
      "source": [
        "Los iteradores anteriores son conocidos como **iteradores infinitos** dado que no se establece dentro de estos el momento último en el que acaban."
      ]
    },
    {
      "cell_type": "markdown",
      "metadata": {
        "id": "a-EBi6ujHSBY"
      },
      "source": [
        "### `itertools.accumulate`\n",
        "Esta función acumula los resultados de los valores uno a uno hasta que se agote la lista de los valores a iterar. \n",
        "\n",
        "La función predeterminada a ocupar es suma. En cuyo caso, dada una lista $\\{x_1, x_2, \\ldots, x_n\\}$ los elementos resultantes serían\n",
        "$$\n",
        "    \\{x_1, x_1 + x_2, \\ldots, x_1 + x_2 + \\ldots + x_n\\}\n",
        "$$"
      ]
    },
    {
      "cell_type": "code",
      "metadata": {
        "colab": {
          "base_uri": "https://localhost:8080/"
        },
        "id": "rCkj4YPGHSBY",
        "outputId": "36f7ed4e-05a6-40e3-e369-c9f32e7fb43c"
      },
      "source": [
        "x = [1, 2, 3, 4, 5]\n",
        "for v in it.accumulate(x):\n",
        "    print(v, end=\" \")"
      ],
      "execution_count": null,
      "outputs": [
        {
          "output_type": "stream",
          "name": "stdout",
          "text": [
            "1 3 6 10 15 "
          ]
        }
      ]
    },
    {
      "cell_type": "markdown",
      "metadata": {
        "id": "vqMu74R8HSBY"
      },
      "source": [
        "la función `accumulate` lleva como parámetro opcional la función a aplicar a cada uno de los elementos. Esta función deberá tomar como primer parámetro el valor acumulado y como segundo parámetro el nuevo valor a aplicar."
      ]
    },
    {
      "cell_type": "code",
      "metadata": {
        "colab": {
          "base_uri": "https://localhost:8080/"
        },
        "id": "Yj5fXdoZHSBZ",
        "outputId": "57fbde79-822e-47d1-cd59-24da07964552"
      },
      "source": [
        "numbers = [-56, -18,  49,  0, -55,  30, -46, -80, -42,  89,  88,  82, -73, -25,  32]\n",
        "[n for n in it.accumulate(numbers, max)]"
      ],
      "execution_count": null,
      "outputs": [
        {
          "output_type": "execute_result",
          "data": {
            "text/plain": [
              "[-56, -18, 49, 49, 49, 49, 49, 49, 49, 89, 89, 89, 89, 89, 89]"
            ]
          },
          "metadata": {},
          "execution_count": 120
        }
      ]
    },
    {
      "cell_type": "code",
      "metadata": {
        "colab": {
          "base_uri": "https://localhost:8080/"
        },
        "id": "gjGq6N_mHSBZ",
        "outputId": "215a06b5-6bb4-4ae4-83ee-2ec10ec065dc"
      },
      "source": [
        "[n for n in it.accumulate(numbers, min)]"
      ],
      "execution_count": null,
      "outputs": [
        {
          "output_type": "execute_result",
          "data": {
            "text/plain": [
              "[-56, -56, -56, -56, -56, -56, -56, -80, -80, -80, -80, -80, -80, -80, -80]"
            ]
          },
          "metadata": {},
          "execution_count": 121
        }
      ]
    },
    {
      "cell_type": "markdown",
      "metadata": {
        "id": "GIEJNe_THSBZ"
      },
      "source": [
        "----\n",
        "### `itertools.chain`\n",
        "Esta función crea un iterable de elementos iterables sobre una lista"
      ]
    },
    {
      "cell_type": "code",
      "metadata": {
        "colab": {
          "base_uri": "https://localhost:8080/"
        },
        "id": "PmHdPR1KHSBZ",
        "outputId": "a246706e-f61a-4ea2-8d25-fa7546ab8bec"
      },
      "source": [
        "for v in it.chain([\"A\", \"B\"], [\"C\", \"D\"]):\n",
        "    print(v)"
      ],
      "execution_count": null,
      "outputs": [
        {
          "output_type": "stream",
          "name": "stdout",
          "text": [
            "A\n",
            "B\n",
            "C\n",
            "D\n"
          ]
        }
      ]
    },
    {
      "cell_type": "code",
      "metadata": {
        "colab": {
          "base_uri": "https://localhost:8080/"
        },
        "id": "qDcaLJtLHSBZ",
        "outputId": "8ce32286-48db-45fb-dc62-14f5bf9953ed"
      },
      "source": [
        "for v in it.accumulate(it.chain([\"A\", \"B\"], [\"C\", \"D\"])):\n",
        "    print(v)"
      ],
      "execution_count": null,
      "outputs": [
        {
          "output_type": "stream",
          "name": "stdout",
          "text": [
            "A\n",
            "AB\n",
            "ABC\n",
            "ABCD\n"
          ]
        }
      ]
    },
    {
      "cell_type": "markdown",
      "metadata": {
        "id": "S0XgW6uzHSBa"
      },
      "source": [
        "En el caso de tener una lista con iterables sobre los cuáles aplicaremos `chain`, podemos"
      ]
    },
    {
      "cell_type": "code",
      "metadata": {
        "colab": {
          "base_uri": "https://localhost:8080/"
        },
        "id": "SqjoGMY9HSBa",
        "outputId": "c23e18ca-cfb9-4e82-e07b-d6c91e0918bf"
      },
      "source": [
        "# Desempacar los valores de la lista \n",
        "letters = [[\"A\", \"B\"], [\"C\", \"D\"]]\n",
        "for v in it.chain(*letters):\n",
        "    print(v)"
      ],
      "execution_count": null,
      "outputs": [
        {
          "output_type": "stream",
          "name": "stdout",
          "text": [
            "A\n",
            "B\n",
            "C\n",
            "D\n"
          ]
        }
      ]
    },
    {
      "cell_type": "code",
      "metadata": {
        "colab": {
          "base_uri": "https://localhost:8080/"
        },
        "id": "qUeqlRfgHSBa",
        "outputId": "8a04b74c-f17c-4f8e-bf49-815527a31d96"
      },
      "source": [
        "# usar la propiedad \"from_iterable\" dentro de letters\n",
        "letters = [[\"A\", \"B\"], [\"C\", \"D\"]]\n",
        "for v in it.chain.from_iterable(letters):\n",
        "    print(v)"
      ],
      "execution_count": null,
      "outputs": [
        {
          "output_type": "stream",
          "name": "stdout",
          "text": [
            "A\n",
            "B\n",
            "C\n",
            "D\n"
          ]
        }
      ]
    },
    {
      "cell_type": "markdown",
      "metadata": {
        "id": "4-cEwxwYHSBa"
      },
      "source": [
        "----\n",
        "### `itertools.groupby`\n",
        "Esta función crea un iterador que regresa las llaves de agrupación y los elementos agrupados dentro de un conjunto de datos."
      ]
    },
    {
      "cell_type": "code",
      "metadata": {
        "colab": {
          "base_uri": "https://localhost:8080/"
        },
        "id": "dlogtivpHSBb",
        "outputId": "bfda738f-bd98-4475-90ad-b44ff501f49d"
      },
      "source": [
        "values = \"AAAAAXXBBBBCCCCCDDDOOOO\"\n",
        "for key, iterables in it.groupby(values):\n",
        "    print(key)"
      ],
      "execution_count": null,
      "outputs": [
        {
          "output_type": "stream",
          "name": "stdout",
          "text": [
            "A\n",
            "X\n",
            "B\n",
            "C\n",
            "D\n",
            "O\n"
          ]
        }
      ]
    },
    {
      "cell_type": "code",
      "metadata": {
        "colab": {
          "base_uri": "https://localhost:8080/"
        },
        "id": "EfO8zx77HSBb",
        "outputId": "38d2d7b0-d9a9-4326-a9f7-49cee376b589"
      },
      "source": [
        "values = \"AAAAABBBBCCCCCDDDOOOO\"\n",
        "for key, iterables in it.groupby(values):\n",
        "    print(iterables)"
      ],
      "execution_count": null,
      "outputs": [
        {
          "output_type": "stream",
          "name": "stdout",
          "text": [
            "<itertools._grouper object at 0x7faa2703a2d0>\n",
            "<itertools._grouper object at 0x7faa2703a050>\n",
            "<itertools._grouper object at 0x7faa2703a850>\n",
            "<itertools._grouper object at 0x7faa2703a9d0>\n",
            "<itertools._grouper object at 0x7faa2703aed0>\n"
          ]
        }
      ]
    },
    {
      "cell_type": "markdown",
      "metadata": {
        "id": "wrxO0VajHSBd"
      },
      "source": [
        "----\n",
        "### `itertools.compress`\n",
        "Crea un iterador que regresa únicamente los elementos que regresen ciertos."
      ]
    },
    {
      "cell_type": "code",
      "metadata": {
        "scrolled": false,
        "colab": {
          "base_uri": "https://localhost:8080/"
        },
        "id": "O_Se_KuaHSBe",
        "outputId": "2700afff-c74a-4cb3-89a8-00f75a03be6c"
      },
      "source": [
        "values = [3, 1, 4, 1, 5, 2, 3, 1, 5, 2]\n",
        "select = [1, 0, 0, 0, 1, 0, 1, 0, 0, 1]\n",
        "\n",
        "for v in it.compress(values, select):\n",
        "    print(v)"
      ],
      "execution_count": null,
      "outputs": [
        {
          "output_type": "stream",
          "name": "stdout",
          "text": [
            "3\n",
            "5\n",
            "3\n",
            "2\n"
          ]
        }
      ]
    },
    {
      "cell_type": "markdown",
      "metadata": {
        "id": "cb5B6re-HSBe"
      },
      "source": [
        "<h2 style=\"color:teal\">Ejemplo</h2>\n",
        "\n",
        "Crea la función `range_primes` que regrese todos los números primos entre un rango `[2, n]`."
      ]
    },
    {
      "cell_type": "code",
      "metadata": {
        "id": "J9KBsZHDHSBe"
      },
      "source": [
        "def range_primes(values, primes=None):\n",
        "    primes = primes if primes is not None else [2]\n",
        "    *_, last_prime = primes\n",
        "    prime, *values = it.compress(values, map(lambda x: x % last_prime != 0, values))\n",
        "    primes.append(prime)\n",
        "    if len(values) != 0:\n",
        "        return range_primes(values, primes)\n",
        "    else:\n",
        "        return primes"
      ],
      "execution_count": null,
      "outputs": []
    },
    {
      "cell_type": "code",
      "metadata": {
        "colab": {
          "base_uri": "https://localhost:8080/"
        },
        "id": "guJuUijWHSBe",
        "outputId": "0748dc03-d99a-4a6c-ef6d-6ff8edbe3f99"
      },
      "source": [
        "vals = range(2, 60)\n",
        "range_primes(vals)"
      ],
      "execution_count": null,
      "outputs": [
        {
          "output_type": "execute_result",
          "data": {
            "text/plain": [
              "[2, 3, 5, 7, 11, 13, 17, 19, 23, 29, 31, 37, 41, 43, 47, 53, 59]"
            ]
          },
          "metadata": {},
          "execution_count": 130
        }
      ]
    },
    {
      "cell_type": "markdown",
      "metadata": {
        "id": "OVzw8FtFHSBe"
      },
      "source": [
        "----\n",
        "### `itertools.product`\n",
        "Esta función regresa el producto cartesiano entre dos iterables. Esta  función es comunmente usada como reemplazo de un doble for loop."
      ]
    },
    {
      "cell_type": "code",
      "metadata": {
        "colab": {
          "base_uri": "https://localhost:8080/"
        },
        "id": "6oZmYi3SHSBf",
        "outputId": "5f4f2a9e-a4fa-45e4-ab68-34a4622ac928"
      },
      "source": [
        "upper = [\"A\", \"B\", \"C\"]\n",
        "lower = [\"a\", \"b\", \"c\"]\n",
        "\n",
        "for u, l in it.product(upper, lower):\n",
        "    print(f\"{u}-{l}\", end=\"  \")"
      ],
      "execution_count": null,
      "outputs": [
        {
          "output_type": "stream",
          "name": "stdout",
          "text": [
            "A-a  A-b  A-c  B-a  B-b  B-c  C-a  C-b  C-c  "
          ]
        }
      ]
    },
    {
      "cell_type": "code",
      "metadata": {
        "colab": {
          "base_uri": "https://localhost:8080/"
        },
        "id": "KJfQVJvBHSBf",
        "outputId": "e9c65d4d-1148-48e6-dd35-afecb2089cc8"
      },
      "source": [
        "table_size = 5\n",
        "elements = [*[\" \"] * (table_size - 1), \"\\n\"]\n",
        "for (i, j), end in zip(it.product(*it.repeat(range(1, table_size + 1), 2)), it.cycle(elements)):\n",
        "    print(f\"{i * j:02}\", end=end)"
      ],
      "execution_count": null,
      "outputs": [
        {
          "output_type": "stream",
          "name": "stdout",
          "text": [
            "01 02 03 04 05\n",
            "02 04 06 08 10\n",
            "03 06 09 12 15\n",
            "04 08 12 16 20\n",
            "05 10 15 20 25\n"
          ]
        }
      ]
    },
    {
      "cell_type": "markdown",
      "metadata": {
        "id": "WmKQ1OAbHSBf"
      },
      "source": [
        "----\n",
        "### `itertools.permutations`\n",
        "Esta función crea un iterable de todas las permutaciones posibles de elementos de longitud `m`"
      ]
    },
    {
      "cell_type": "code",
      "metadata": {
        "colab": {
          "base_uri": "https://localhost:8080/"
        },
        "id": "Ehgh5yptHSBf",
        "outputId": "8b6f918d-329b-4b44-c2b3-2078ce732224"
      },
      "source": [
        "for v in it.islice(it.permutations(\"Nabla\"), 10):\n",
        "    print(v)"
      ],
      "execution_count": null,
      "outputs": [
        {
          "output_type": "stream",
          "name": "stdout",
          "text": [
            "('N', 'a', 'b', 'l', 'a')\n",
            "('N', 'a', 'b', 'a', 'l')\n",
            "('N', 'a', 'l', 'b', 'a')\n",
            "('N', 'a', 'l', 'a', 'b')\n",
            "('N', 'a', 'a', 'b', 'l')\n",
            "('N', 'a', 'a', 'l', 'b')\n",
            "('N', 'b', 'a', 'l', 'a')\n",
            "('N', 'b', 'a', 'a', 'l')\n",
            "('N', 'b', 'l', 'a', 'a')\n",
            "('N', 'b', 'l', 'a', 'a')\n"
          ]
        }
      ]
    },
    {
      "cell_type": "markdown",
      "metadata": {
        "id": "pbSC-8JnHSBf"
      },
      "source": [
        "----\n",
        "### `itertools.combinations`\n",
        "Esta función crea un iterable de todas las combinaciones posibles de elementos de longitud `m`"
      ]
    },
    {
      "cell_type": "code",
      "metadata": {
        "colab": {
          "base_uri": "https://localhost:8080/"
        },
        "id": "k2JTI6U_HSBg",
        "outputId": "fc099ad2-3cb7-4318-ebd4-baa481da49f2"
      },
      "source": [
        "for v in it.combinations(\"Nabla\", 4):\n",
        "    print(v)"
      ],
      "execution_count": null,
      "outputs": [
        {
          "output_type": "stream",
          "name": "stdout",
          "text": [
            "('N', 'a', 'b', 'l')\n",
            "('N', 'a', 'b', 'a')\n",
            "('N', 'a', 'l', 'a')\n",
            "('N', 'b', 'l', 'a')\n",
            "('a', 'b', 'l', 'a')\n"
          ]
        }
      ]
    },
    {
      "cell_type": "markdown",
      "metadata": {
        "id": "XpPXXP-qHSBg"
      },
      "source": [
        "## Referencias\n",
        "1. https://wiki.python.org/moin/Generators\n",
        "2. https://wiki.python.org/moin/Iterator\n",
        "3. https://docs.python.org/3/tutorial/classes.html\n",
        "4. https://docs.python.org/3/library/itertools.html"
      ]
    }
  ]
}